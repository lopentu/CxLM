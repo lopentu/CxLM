{
  "cells": [
    {
      "cell_type": "markdown",
      "id": "947f7331-799e-457e-9b05-f707abd298e9",
      "metadata": {
        "id": "947f7331-799e-457e-9b05-f707abd298e9"
      },
      "source": [
        "# CxLM Samples"
      ]
    },
    {
      "cell_type": "code",
      "source": [
        "!pip -q install transformers\n",
        "!git clone https://github.com/seantyh/conart"
      ],
      "metadata": {
        "id": "1nFTwtYegu9-"
      },
      "id": "1nFTwtYegu9-",
      "execution_count": null,
      "outputs": []
    },
    {
      "cell_type": "code",
      "execution_count": 3,
      "id": "46b8acef-ef12-40d0-9d27-fde1bd8b7f00",
      "metadata": {
        "tags": [],
        "id": "46b8acef-ef12-40d0-9d27-fde1bd8b7f00"
      },
      "outputs": [],
      "source": [
        "import sys\n",
        "sys.path.append(\"conart/src\")\n",
        "import re\n",
        "import numpy as np\n",
        "import torch\n",
        "from transformers import BertTokenizerFast, BertForMaskedLM\n",
        "from conart.sample import sample_site"
      ]
    },
    {
      "cell_type": "code",
      "execution_count": 5,
      "id": "7b571992-7a21-4000-80e1-bab0f9d8babb",
      "metadata": {
        "id": "7b571992-7a21-4000-80e1-bab0f9d8babb"
      },
      "outputs": [],
      "source": [
        "device = torch.device(\"cuda\") \\\n",
        "         if torch.cuda.is_available() else torch.device(\"cpu\")"
      ]
    },
    {
      "cell_type": "code",
      "execution_count": null,
      "id": "46be44f6-5e00-4f5c-ac66-aec6f4441879",
      "metadata": {
        "id": "46be44f6-5e00-4f5c-ac66-aec6f4441879"
      },
      "outputs": [],
      "source": [
        "tokenizer = BertTokenizerFast.from_pretrained('bert-base-chinese')\n",
        "model = BertForMaskedLM.from_pretrained('seantyh/CxLM')\n",
        "model = model.to(device)"
      ]
    },
    {
      "cell_type": "code",
      "execution_count": 7,
      "id": "e023b2a1-757d-4873-8761-67c0fd04876e",
      "metadata": {
        "id": "e023b2a1-757d-4873-8761-67c0fd04876e"
      },
      "outputs": [],
      "source": [
        "def generate_samples(input_text):\n",
        "    tokens = re.findall(\"\\[MASK\\]|.\", input_text)\n",
        "    mindex = [i for i, x in enumerate(tokens) if x==\"[MASK]\"]\n",
        "    batch = {\n",
        "        \"masked\": [tokens],\n",
        "        \"mindex\": np.array([mindex])\n",
        "    }\n",
        "    \n",
        "    samples = sample_site(batch, model, tokenizer, n_sample=10)[0]\n",
        "    prob_sort = samples[\"probs\"].sum(0).argsort()\n",
        "    print(\"CxLM (separated): \")\n",
        "    for site_x in tokenizer.batch_decode(samples[\"ids\"]):\n",
        "        print(\"  \", site_x)\n",
        "    samples = sample_site(batch, model, tokenizer, merge_pair2=True)[0]\n",
        "    prob_sort = samples[\"probs\"].sum(0).argsort()\n",
        "    print(\"CxLM (merged): \")\n",
        "    print(\"  \", \" \".join(tokenizer.batch_decode(samples[\"ids\"])))"
      ]
    },
    {
      "cell_type": "code",
      "execution_count": 8,
      "id": "2f947459-58e2-4260-a696-4522242d5ad0",
      "metadata": {
        "id": "2f947459-58e2-4260-a696-4522242d5ad0",
        "outputId": "34243393-66ed-4736-c2c4-586183973365",
        "colab": {
          "base_uri": "https://localhost:8080/"
        }
      },
      "outputs": [
        {
          "output_type": "stream",
          "name": "stdout",
          "text": [
            "CxLM (separated): \n",
            "   想 算 看 洗 笑 舔 聊 摸 走 動\n",
            "   想 算 笑 洗 看 舔 聊 忍 摸 動\n",
            "CxLM (merged): \n",
            "   想 算 看 洗 笑 舔 聊 摸 忍 動\n"
          ]
        }
      ],
      "source": [
        "generate_samples(\"[MASK]一[MASK]\")"
      ]
    },
    {
      "cell_type": "code",
      "execution_count": 9,
      "id": "c20ba8f9-846c-4721-8bd0-7492c844e6d7",
      "metadata": {
        "id": "c20ba8f9-846c-4721-8bd0-7492c844e6d7",
        "outputId": "51d4624f-416a-4c0a-9ad8-34a1cd971fba",
        "colab": {
          "base_uri": "https://localhost:8080/"
        }
      },
      "outputs": [
        {
          "output_type": "stream",
          "name": "stdout",
          "text": [
            "CxLM (separated): \n",
            "   讀 看 寫 翻 唸 買 聽 逛 走 想\n",
            "   讀 看 寫 翻 想 買 唸 逛 聽 走\n",
            "CxLM (merged): \n",
            "   讀 看 寫 翻 唸 想 買 逛 聽 走\n"
          ]
        }
      ],
      "source": [
        "generate_samples(\"買本書[MASK]一[MASK]\")"
      ]
    },
    {
      "cell_type": "code",
      "execution_count": 10,
      "id": "f4bb0827-ec31-4064-8010-d9aadb696d67",
      "metadata": {
        "id": "f4bb0827-ec31-4064-8010-d9aadb696d67",
        "outputId": "e11a07a5-7d45-4628-c482-a6d5c5c15637",
        "colab": {
          "base_uri": "https://localhost:8080/"
        }
      },
      "outputs": [
        {
          "output_type": "stream",
          "name": "stdout",
          "text": [
            "CxLM (separated): \n",
            "   忍 哭 笑 算 罵 洗 死 吵 收 想\n",
            "   忍 哭 算 笑 死 罵 洗 收 喊 吵\n",
            "CxLM (merged): \n",
            "   忍 哭 算 笑 死 罵 洗 收 吵 喊\n"
          ]
        }
      ],
      "source": [
        "generate_samples(\"[MASK]一[MASK]也好\")"
      ]
    },
    {
      "cell_type": "code",
      "source": [
        ""
      ],
      "metadata": {
        "id": "Faqa6l5mhPwg"
      },
      "id": "Faqa6l5mhPwg",
      "execution_count": null,
      "outputs": []
    }
  ],
  "metadata": {
    "kernelspec": {
      "display_name": "Python 3 (ipykernel)",
      "language": "python",
      "name": "python3"
    },
    "language_info": {
      "codemirror_mode": {
        "name": "ipython",
        "version": 3
      },
      "file_extension": ".py",
      "mimetype": "text/x-python",
      "name": "python",
      "nbconvert_exporter": "python",
      "pygments_lexer": "ipython3",
      "version": "3.9.5"
    },
    "colab": {
      "name": "CxLM-samples.ipynb",
      "provenance": []
    }
  },
  "nbformat": 4,
  "nbformat_minor": 5
}