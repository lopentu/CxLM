{
 "cells": [
  {
   "cell_type": "markdown",
   "id": "e497f2b0-a839-4227-8a2b-05b81292eb19",
   "metadata": {},
   "source": [
    "## Build equality constraints\n",
    "* Inputs:\n",
    "  * raw data: `../data/raw_cx_data.json` (10.01)\n",
    "  * CV splits: `../data/cv_splits_10.json` (10.01)\n",
    "* Outputs:\n",
    "  * (None)"
   ]
  },
  {
   "cell_type": "code",
   "execution_count": 1,
   "id": "ed988d93-b007-4379-8685-6eb06ae83828",
   "metadata": {},
   "outputs": [],
   "source": [
    "%load_ext autoreload\n",
    "%autoreload 2"
   ]
  },
  {
   "cell_type": "code",
   "execution_count": 3,
   "id": "e7269ade-7ecf-4e8c-b081-50d6b49bbff5",
   "metadata": {},
   "outputs": [],
   "source": [
    "import json\n",
    "import pickle\n",
    "from pathlib import Path\n",
    "from hashlib import sha256\n",
    "from tqdm.auto import tqdm\n",
    "import torch\n",
    "import numpy as np\n",
    "from import_conart import conart\n",
    "from conart.mlm_masks import *\n",
    "from conart.token_mappings import *"
   ]
  },
  {
   "cell_type": "code",
   "execution_count": 4,
   "id": "23c1123f-ca3b-4776-8f75-db0fb9904234",
   "metadata": {},
   "outputs": [
    {
     "data": {
      "text/plain": [
       "11642"
      ]
     },
     "execution_count": 4,
     "metadata": {},
     "output_type": "execute_result"
    }
   ],
   "source": [
    "data_path = \"../data/raw_cx_data.json\"\n",
    "with open(data_path, \"r\", encoding=\"UTF-8\") as fin:\n",
    "    data = json.load(fin)\n",
    "## Check data is the same\n",
    "h = sha256()\n",
    "h.update(pickle.dumps(data))\n",
    "data_hash = h.digest().hex()[:6]\n",
    "assert data_hash == \"4063b4\"\n",
    "len(data) # should be 11642"
   ]
  },
  {
   "cell_type": "code",
   "execution_count": 6,
   "id": "1fe426a5-771c-454e-8a8e-e82ab0c41943",
   "metadata": {},
   "outputs": [
    {
     "name": "stdout",
     "output_type": "stream",
     "text": [
      "669 ['v', '一', 'v'] ['進去', '一', '進去']\n",
      "['診間', '的', '病患', '一', '出來', '馬上', '就', '插隊', '叫', '我', '進去', '一', '進去', '醫生', '直接', '就', '說', '先', '掃', '超音波', '這', '次', '看', '的', '到', '大', '螢幕', '醫生', '也', '看', '了', '一陣子', '其實', '這', '時候', '我', '心', '也', '涼', '了', '因為', '之前', '心跳', '都', '看得出來', '很', '明顯', '但', '這', '次', '寶寶', '在', '一樣', '的', '位置', '但', '心臟', '沒有', '在', '跳動', '醫生', '沉重', '的', '說']\n"
     ]
    }
   ],
   "source": [
    "for i in range(80,10000):\n",
    "    data_x = data[i]\n",
    "    text = data_x[\"text\"]\n",
    "    example = data_x[\"cnstr_example\"]\n",
    "    form = data_x[\"cnstr_form\"]\n",
    "    if any(len(x) > 1 for x in example):\n",
    "        print(i, form, example)\n",
    "        print(text)\n",
    "        break"
   ]
  },
  {
   "cell_type": "code",
   "execution_count": 9,
   "id": "caf9740d-ebb4-4638-9428-1e688a5a5560",
   "metadata": {},
   "outputs": [
    {
     "data": {
      "text/plain": [
       "{'v': ([15, 16], [18, 19])}"
      ]
     },
     "execution_count": 9,
     "metadata": {},
     "output_type": "execute_result"
    }
   ],
   "source": [
    "eqs = get_equality_constraints(data[669])\n",
    "eqs"
   ]
  },
  {
   "cell_type": "code",
   "execution_count": 19,
   "id": "00680e89-d499-42c0-8a42-09e537037a27",
   "metadata": {},
   "outputs": [
    {
     "data": {
      "text/plain": [
       "[(['進', '去'], ['進', '去'])]"
      ]
     },
     "execution_count": 19,
     "metadata": {},
     "output_type": "execute_result"
    }
   ],
   "source": [
    "from itertools import chain\n",
    "import numpy as np\n",
    "chars = list(chain.from_iterable(data[669][\"text\"]))\n",
    "chars = np.array(chars)\n",
    "[(chars[a].tolist(), chars[b].tolist()) for a, b in eqs.values()]"
   ]
  },
  {
   "cell_type": "code",
   "execution_count": null,
   "id": "5ff89246-60f3-4747-92b6-d4b0421ad3a4",
   "metadata": {},
   "outputs": [],
   "source": []
  }
 ],
 "metadata": {
  "kernelspec": {
   "display_name": "Python 3 (ipykernel)",
   "language": "python",
   "name": "python3"
  },
  "language_info": {
   "codemirror_mode": {
    "name": "ipython",
    "version": 3
   },
   "file_extension": ".py",
   "mimetype": "text/x-python",
   "name": "python",
   "nbconvert_exporter": "python",
   "pygments_lexer": "ipython3",
   "version": "3.9.5"
  }
 },
 "nbformat": 4,
 "nbformat_minor": 5
}
