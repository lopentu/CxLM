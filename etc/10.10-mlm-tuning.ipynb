{
 "cells": [
  {
   "cell_type": "markdown",
   "id": "947f7331-799e-457e-9b05-f707abd298e9",
   "metadata": {},
   "source": [
    "## MLM slots evals\n",
    "* Inputs:\n",
    "  * raw data: `../data/raw_cx_data.json`\n",
    "  * CV splits: `../data/cv_splits_10.json`"
   ]
  },
  {
   "cell_type": "code",
   "execution_count": 1,
   "id": "a002c61d-99e2-4e20-a1fd-8d739a3afd2d",
   "metadata": {},
   "outputs": [],
   "source": [
    "%load_ext autoreload\n",
    "%autoreload 2"
   ]
  },
  {
   "cell_type": "code",
   "execution_count": 2,
   "id": "46b8acef-ef12-40d0-9d27-fde1bd8b7f00",
   "metadata": {},
   "outputs": [],
   "source": [
    "import json\n",
    "import pickle\n",
    "from pathlib import Path\n",
    "from hashlib import sha256\n",
    "import torch\n",
    "from transformers import BertTokenizerFast, BertForMaskedLM, BertModel\n",
    "from import_conart import conart\n",
    "from conart.mlm_masks import batched_text"
   ]
  },
  {
   "cell_type": "code",
   "execution_count": 3,
   "id": "e9a62670-63f0-45f2-98b1-f8aa45b47866",
   "metadata": {},
   "outputs": [
    {
     "data": {
      "text/plain": [
       "11642"
      ]
     },
     "execution_count": 3,
     "metadata": {},
     "output_type": "execute_result"
    }
   ],
   "source": [
    "data_path = \"../data/raw_cx_data.json\"\n",
    "with open(data_path, \"r\", encoding=\"UTF-8\") as fin:\n",
    "    data = json.load(fin)\n",
    "## Check data is the same\n",
    "h = sha256()\n",
    "h.update(pickle.dumps(data))\n",
    "data_hash = h.digest().hex()[:6]\n",
    "assert data_hash == \"4063b4\"\n",
    "len(data) # should be 11642"
   ]
  },
  {
   "cell_type": "code",
   "execution_count": 4,
   "id": "c7556dcc-1a31-40c8-b142-9a41f7e4ab47",
   "metadata": {},
   "outputs": [],
   "source": [
    "## Read cv splits\n",
    "with open(\"../data/cv_splits_10.json\", \"r\") as fin:\n",
    "    cv_splits = json.load(fin)"
   ]
  },
  {
   "cell_type": "code",
   "execution_count": 5,
   "id": "46be44f6-5e00-4f5c-ac66-aec6f4441879",
   "metadata": {},
   "outputs": [],
   "source": [
    "tokenizer = BertTokenizerFast.from_pretrained('bert-base-chinese')\n",
    "# model = BertForMaskedLM.from_pretrained('bert-base-chinese')\n",
    "model = BertForMaskedLM.from_pretrained('ckiplab/bert-base-chinese')"
   ]
  },
  {
   "cell_type": "markdown",
   "id": "5ce38a19-96c3-44c8-9985-a513758804be",
   "metadata": {},
   "source": [
    "## Evaluate splits"
   ]
  },
  {
   "cell_type": "code",
   "execution_count": 27,
   "id": "d978cb6d-17eb-45b4-95a9-ece138f1f9b0",
   "metadata": {},
   "outputs": [],
   "source": [
    "train_idxs, test_idxs = cv_splits[0].values()"
   ]
  },
  {
   "cell_type": "code",
   "execution_count": 28,
   "id": "ab1179ed-8332-46d9-99af-e5ca98da2f6c",
   "metadata": {},
   "outputs": [
    {
     "data": {
      "text/plain": [
       "{'board': 'BabyMother',\n",
       " 'text': ['再', '擠', '也', '擠', '不', '出來', '了'],\n",
       " 'cnstr': ['O', 'BX', 'IX', 'IX', 'IX', 'IX', 'O'],\n",
       " 'slot': ['O', 'BV', 'BC', 'BV', 'BC', 'BV', 'O'],\n",
       " 'cnstr_form': ['v', '也', 'v', '不', 'X'],\n",
       " 'cnstr_example': ['擠', '也', '擠', '不', '出來']}"
      ]
     },
     "execution_count": 28,
     "metadata": {},
     "output_type": "execute_result"
    }
   ],
   "source": [
    "xx = data[1211]\n",
    "xx"
   ]
  },
  {
   "cell_type": "code",
   "execution_count": 117,
   "id": "894a368e-5225-4f2f-82fd-1c946f65f95f",
   "metadata": {},
   "outputs": [
    {
     "data": {
      "text/plain": [
       "['masked', 'text', 'mindex', 'mindex_bool']"
      ]
     },
     "execution_count": 117,
     "metadata": {},
     "output_type": "execute_result"
    }
   ],
   "source": [
    "batch = batched_text(data, train_idxs[:5], \"vslot\")\n",
    "list(batch.keys())"
   ]
  },
  {
   "cell_type": "code",
   "execution_count": 118,
   "id": "75e8262d-1a9f-4ee6-bb53-64daf5da08d9",
   "metadata": {},
   "outputs": [
    {
     "data": {
      "text/plain": [
       "array([[135, 137,  -1,  -1,  -1,  -1],\n",
       "       [ 13,  15,  -1,  -1,  -1,  -1],\n",
       "       [  3,   5,  -1,  -1,  -1,  -1],\n",
       "       [  0,   1,   2,   4,   5,   6],\n",
       "       [  0,   2,  -1,  -1,  -1,  -1]])"
      ]
     },
     "execution_count": 118,
     "metadata": {},
     "output_type": "execute_result"
    }
   ],
   "source": [
    "batch[\"mindex\"]"
   ]
  },
  {
   "cell_type": "code",
   "execution_count": 119,
   "id": "c8d16da0-a559-479c-b76b-3ed747bf177a",
   "metadata": {},
   "outputs": [
    {
     "data": {
      "text/plain": [
       "['[MASK]', '一', '[MASK]']"
      ]
     },
     "execution_count": 119,
     "metadata": {},
     "output_type": "execute_result"
    }
   ],
   "source": [
    "batch[\"masked\"][0][135:138]"
   ]
  },
  {
   "cell_type": "code",
   "execution_count": 120,
   "id": "7a89ca97-83f6-46fe-ae97-80b40afc05ee",
   "metadata": {},
   "outputs": [],
   "source": [
    "X = tokenizer(batch[\"masked\"], return_tensors=\"pt\", is_split_into_words=True, padding=True)\n",
    "Xori = tokenizer(batch[\"text\"], return_tensors=\"pt\", is_split_into_words=True, padding=True)\n",
    "ylabels = Xori[\"input_ids\"]\n",
    "out = model(**X, labels=ylabels)"
   ]
  },
  {
   "cell_type": "code",
   "execution_count": 125,
   "id": "d36a8934-d730-4b5f-9aa5-9b542012228b",
   "metadata": {},
   "outputs": [
    {
     "data": {
      "text/plain": [
       "tensor([[136, 138,   0,   0,   0,   0],\n",
       "        [ 14,  16,   0,   0,   0,   0],\n",
       "        [  4,   6,   0,   0,   0,   0],\n",
       "        [  1,   2,   3,   5,   6,   7],\n",
       "        [  1,   3,   0,   0,   0,   0]])"
      ]
     },
     "execution_count": 125,
     "metadata": {},
     "output_type": "execute_result"
    }
   ],
   "source": [
    "mindex = torch.tensor(batch[\"mindex\"]+1)\n",
    "mindex"
   ]
  },
  {
   "cell_type": "code",
   "execution_count": 127,
   "id": "f6ecdded-2d7d-4565-8d5d-1330fd692e4e",
   "metadata": {},
   "outputs": [
    {
     "data": {
      "text/plain": [
       "tensor([[6678, 6678,    0,    0,    0,    0],\n",
       "        [4717, 4717,    0,    0,    0,    0],\n",
       "        [4020, 4020,    0,    0,    0,    0],\n",
       "        [1762,  671, 6629, 1762,  671, 6629],\n",
       "        [6341, 6341,    0,    0,    0,    0]])"
      ]
     },
     "execution_count": 127,
     "metadata": {},
     "output_type": "execute_result"
    }
   ],
   "source": [
    "torch.where(mindex > 0,\n",
    "            torch.gather(ylabels, 1, mindex),\n",
    "            torch.full((5,6),0))"
   ]
  },
  {
   "cell_type": "code",
   "execution_count": 142,
   "id": "253ee880-3829-4ca1-a918-9543e44adf40",
   "metadata": {},
   "outputs": [
    {
     "data": {
      "text/plain": [
       "torch.Size([3, 1])"
      ]
     },
     "execution_count": 142,
     "metadata": {},
     "output_type": "execute_result"
    }
   ],
   "source": [
    "torch.tensor([[1,2,3]]).T.shape"
   ]
  },
  {
   "cell_type": "code",
   "execution_count": 147,
   "id": "9f51dad4-87c3-4c0d-a7e9-ccbc63165150",
   "metadata": {},
   "outputs": [
    {
     "data": {
      "text/plain": [
       "tensor([[-1, -1,  2,  3,  4],\n",
       "        [ 5, -1, -1,  8,  9],\n",
       "        [10, 11, -1, -1, 14],\n",
       "        [15, -1, -1, 18, 19],\n",
       "        [-1, 21, 22, 23, -1],\n",
       "        [25, 26, 27, -1, -1]])"
      ]
     },
     "execution_count": 147,
     "metadata": {},
     "output_type": "execute_result"
    }
   ],
   "source": [
    "torch.scatter(torch.arange(30).view(6,5), 1, torch.tensor([[0,1,2,1,4,3],[1,2,3,2,0,4]]).T, \n",
    "              torch.tensor([[-1,-1,-1,-1,-1,-1],[-1,-1,-1,-1,-1,-1]]).T)"
   ]
  },
  {
   "cell_type": "code",
   "execution_count": 149,
   "id": "8a50eb16-5f60-4658-a747-e586802e9948",
   "metadata": {},
   "outputs": [
    {
     "data": {
      "text/plain": [
       "tensor([[-1, -1,  2,  3,  4],\n",
       "        [ 5, -1, -1,  8,  9],\n",
       "        [10, 11, -1, -1, 14],\n",
       "        [15, 16, 17, 18, 19],\n",
       "        [20, 21, 22, 23, 24],\n",
       "        [25, 26, 27, 28, 29]])"
      ]
     },
     "execution_count": 149,
     "metadata": {},
     "output_type": "execute_result"
    }
   ],
   "source": [
    "mm = torch.arange(30).view(6,5)\n",
    "mm[[0,0,1,1,2,2],[0,1,1,2,2,3]]=-1\n",
    "mm"
   ]
  },
  {
   "cell_type": "code",
   "execution_count": 47,
   "id": "dd804f83-ff29-4eb9-9e10-ed0c48f2e341",
   "metadata": {},
   "outputs": [],
   "source": [
    "probs = out.logits.softmax(dim=2)"
   ]
  },
  {
   "cell_type": "code",
   "execution_count": 49,
   "id": "e830fc0c-799c-4f0d-8d52-a4e151344303",
   "metadata": {},
   "outputs": [
    {
     "data": {
      "text/plain": [
       "torch.Size([5, 147, 21128])"
      ]
     },
     "execution_count": 49,
     "metadata": {},
     "output_type": "execute_result"
    }
   ],
   "source": [
    "probs.shape"
   ]
  },
  {
   "cell_type": "code",
   "execution_count": 73,
   "id": "e4ba785d-994a-4a47-95ad-fbc468f658bb",
   "metadata": {},
   "outputs": [],
   "source": [
    "index_tensor = torch.tensor(batch[\"mindex\"]).unsqueeze(2).expand(-1, -1, 21128)\n",
    "seq_probs = torch.gather(probs, 1, index_tensor)"
   ]
  },
  {
   "cell_type": "code",
   "execution_count": null,
   "id": "42d33130-171f-4ac1-a0eb-5861309d6626",
   "metadata": {},
   "outputs": [],
   "source": [
    "probs[0]"
   ]
  },
  {
   "cell_type": "code",
   "execution_count": 86,
   "id": "4426b79a-95d1-470e-a475-d0106b9e2b5e",
   "metadata": {},
   "outputs": [
    {
     "data": {
      "text/plain": [
       "'[CLS] 我 都 兩 三 點 才 睡 的 通 勤 中 很 累 睡 一 睡 也 還 可 以 新 左 營 到 安 平 [SEP] [PAD] [PAD] [PAD] [PAD] [PAD] [PAD] [PAD] [PAD] [PAD] [PAD] [PAD] [PAD] [PAD] [PAD] [PAD] [PAD] [PAD] [PAD] [PAD] [PAD] [PAD] [PAD] [PAD] [PAD] [PAD] [PAD] [PAD] [PAD] [PAD] [PAD] [PAD] [PAD] [PAD] [PAD] [PAD] [PAD] [PAD] [PAD] [PAD] [PAD] [PAD] [PAD] [PAD] [PAD] [PAD] [PAD] [PAD] [PAD] [PAD] [PAD] [PAD] [PAD] [PAD] [PAD] [PAD] [PAD] [PAD] [PAD] [PAD] [PAD] [PAD] [PAD] [PAD] [PAD] [PAD] [PAD] [PAD] [PAD] [PAD] [PAD] [PAD] [PAD] [PAD] [PAD] [PAD] [PAD] [PAD] [PAD] [PAD] [PAD] [PAD] [PAD] [PAD] [PAD] [PAD] [PAD] [PAD] [PAD] [PAD] [PAD] [PAD] [PAD] [PAD] [PAD] [PAD] [PAD] [PAD] [PAD] [PAD] [PAD] [PAD] [PAD] [PAD] [PAD] [PAD] [PAD] [PAD] [PAD] [PAD] [PAD] [PAD] [PAD] [PAD] [PAD] [PAD] [PAD] [PAD] [PAD] [PAD]'"
      ]
     },
     "execution_count": 86,
     "metadata": {},
     "output_type": "execute_result"
    }
   ],
   "source": [
    "tokenizer.decode(Xori[\"input_ids\"][1])"
   ]
  },
  {
   "cell_type": "code",
   "execution_count": 85,
   "id": "a29d7b11-b9bd-41a7-91f9-1a5636212873",
   "metadata": {},
   "outputs": [
    {
     "data": {
      "text/plain": [
       "'的 我 都 兩 三 點 才 睡 的 通 勤 中 很 累, 一 點 也 還 可 以 從 左 營 到 安 平 的,, 點 我 點 在 在 在, 的 睡 的,,,,, 點 我 點 在 在 在,,,,,,,,, 我 在 在 個 在 在 累,, 的 的 的 的 的 的 的 的 的 的 的 的 的 的 的 的 的 的 的 的 的 的 的 的 的 的 的 的 的 的 的 的 的 的 的 的 的 的 在 在 在 在 累 的, 我 中 很 的, 的 的 的 的 的 的 從 從 從 。 到 。 的 的 的 的 的 的 的 的 的 的 的 的 的 的 的 的'"
      ]
     },
     "execution_count": 85,
     "metadata": {},
     "output_type": "execute_result"
    }
   ],
   "source": [
    "tokenizer.decode(out.logits.argmax(dim=2).squeeze()[1])"
   ]
  },
  {
   "cell_type": "code",
   "execution_count": 46,
   "id": "9bc0476c-ab33-4d30-bf86-b777347a0d80",
   "metadata": {},
   "outputs": [
    {
     "data": {
      "text/plain": [
       "[['2',\n",
       "  '3',\n",
       "  'K',\n",
       "  '輪',\n",
       "  '班',\n",
       "  '軍',\n",
       "  '團',\n",
       "  '在',\n",
       "  '歐',\n",
       "  '洲',\n",
       "  '事',\n",
       "  '不',\n",
       "  '可',\n",
       "  '能',\n",
       "  '發',\n",
       "  '生',\n",
       "  '的',\n",
       "  '搞',\n",
       "  '不',\n",
       "  '好',\n",
       "  '做',\n",
       "  '到',\n",
       "  '一',\n",
       "  '半',\n",
       "  '就',\n",
       "  '當',\n",
       "  '初',\n",
       "  '防',\n",
       "  '外',\n",
       "  '來',\n",
       "  '難',\n",
       "  '民',\n",
       "  '偷',\n",
       "  '渡',\n",
       "  '有',\n",
       "  '局',\n",
       "  '部',\n",
       "  '暫',\n",
       "  '停',\n",
       "  '申',\n",
       "  '根',\n",
       "  '罷',\n",
       "  '工',\n",
       "  '去',\n",
       "  '了',\n",
       "  '但',\n",
       "  '他',\n",
       "  '們',\n",
       "  '政',\n",
       "  '治',\n",
       "  '因',\n",
       "  '素',\n",
       "  '不',\n",
       "  '想',\n",
       "  '跟',\n",
       "  '義',\n",
       "  '大',\n",
       "  '利',\n",
       "  '割',\n",
       "  '席',\n",
       "  '怕',\n",
       "  '歐',\n",
       "  '盟',\n",
       "  '跟',\n",
       "  '申',\n",
       "  '根',\n",
       "  '一',\n",
       "  '起',\n",
       "  '解',\n",
       "  '體',\n",
       "  '現',\n",
       "  '在',\n",
       "  '醫',\n",
       "  '療',\n",
       "  '設',\n",
       "  '備',\n",
       "  '供',\n",
       "  '不',\n",
       "  '應',\n",
       "  '求',\n",
       "  '只',\n",
       "  '能',\n",
       "  '看',\n",
       "  '天',\n",
       "  '了',\n",
       "  '只',\n",
       "  '要',\n",
       "  '申',\n",
       "  '根',\n",
       "  '能',\n",
       "  '自',\n",
       "  '由',\n",
       "  '出',\n",
       "  '入',\n",
       "  '再',\n",
       "  '多',\n",
       "  '口',\n",
       "  '罩',\n",
       "  '也',\n",
       "  '沒',\n",
       "  '用',\n",
       "  '輕',\n",
       "  '忽',\n",
       "  '啊',\n",
       "  '歧',\n",
       "  '視',\n",
       "  '口',\n",
       "  '罩',\n",
       "  '文',\n",
       "  '化',\n",
       "  '啊',\n",
       "  '你',\n",
       "  '看',\n",
       "  '台',\n",
       "  '港',\n",
       "  '星',\n",
       "  '起',\n",
       "  '手',\n",
       "  '式',\n",
       "  '都',\n",
       "  '限',\n",
       "  '縮',\n",
       "  '疫',\n",
       "  '區',\n",
       "  '人',\n",
       "  '士',\n",
       "  '搞',\n",
       "  '不',\n",
       "  '好',\n",
       "  '吐',\n",
       "  '一',\n",
       "  '口',\n",
       "  '痰',\n",
       "  '別',\n",
       "  '人',\n",
       "  '[MASK]',\n",
       "  '一',\n",
       "  '[MASK]',\n",
       "  '明',\n",
       "  '天',\n",
       "  '就',\n",
       "  '跟',\n",
       "  '小',\n",
       "  '感',\n",
       "  '冒'],\n",
       " ['我',\n",
       "  '都',\n",
       "  '兩',\n",
       "  '三',\n",
       "  '點',\n",
       "  '才',\n",
       "  '睡',\n",
       "  '的',\n",
       "  '通',\n",
       "  '勤',\n",
       "  '中',\n",
       "  '很',\n",
       "  '累',\n",
       "  '[MASK]',\n",
       "  '一',\n",
       "  '[MASK]',\n",
       "  '也',\n",
       "  '還',\n",
       "  '可',\n",
       "  '以',\n",
       "  '新',\n",
       "  '左',\n",
       "  '營',\n",
       "  '到',\n",
       "  '安',\n",
       "  '平'],\n",
       " ['他', '自', '己', '[MASK]', '一', '[MASK]', '就', '睡', '了'],\n",
       " ['[MASK]',\n",
       "  '[MASK]',\n",
       "  '[MASK]',\n",
       "  '歸',\n",
       "  '[MASK]',\n",
       "  '[MASK]',\n",
       "  '[MASK]',\n",
       "  '愛',\n",
       "  '歸',\n",
       "  '愛',\n",
       "  'A',\n",
       "  '跟',\n",
       "  '下',\n",
       "  '下',\n",
       "  '篇',\n",
       "  '剛',\n",
       "  '好',\n",
       "  '相',\n",
       "  '反'],\n",
       " ['[MASK]', '一', '[MASK]', '就', '清', '楚', '了']]"
      ]
     },
     "execution_count": 46,
     "metadata": {},
     "output_type": "execute_result"
    }
   ],
   "source": [
    "batch[\"masked\"]"
   ]
  },
  {
   "cell_type": "code",
   "execution_count": 24,
   "id": "27d97388-bd35-4a17-ab46-6ba615afe4ee",
   "metadata": {},
   "outputs": [
    {
     "data": {
      "text/plain": [
       "'23 K 輪班 軍團 在 歐洲 事 不可能 發生 的 搞不好 做到 一半 就 當初 防 外來 難民 偷渡 有 局部 暫停 申根 罷工 去 了 但 他們 政治 因素 不 想 跟 義大利 割 席 怕 歐盟 跟 申根 一起 解體 現在 醫療 設備 供不應求 只 能 看 天 了 只要 申根 能 自由 出入 再 多 口罩 也 沒用 輕忽 啊 歧視 口罩 文化 啊 你 看台 港星 起 手 式 都 限 縮 疫區 人士 搞不好 吐 一口 痰 別人 踩 一 踩 明天 就 跟 小 感冒'"
      ]
     },
     "execution_count": 24,
     "metadata": {},
     "output_type": "execute_result"
    }
   ],
   "source": [
    "' '.join(batch[\"text\"][0])"
   ]
  },
  {
   "cell_type": "code",
   "execution_count": null,
   "id": "c335df7e-0efc-4f0d-bb20-b94a63618cba",
   "metadata": {},
   "outputs": [],
   "source": []
  }
 ],
 "metadata": {
  "kernelspec": {
   "display_name": "Python 3 (ipykernel)",
   "language": "python",
   "name": "python3"
  },
  "language_info": {
   "codemirror_mode": {
    "name": "ipython",
    "version": 3
   },
   "file_extension": ".py",
   "mimetype": "text/x-python",
   "name": "python",
   "nbconvert_exporter": "python",
   "pygments_lexer": "ipython3",
   "version": "3.9.5"
  }
 },
 "nbformat": 4,
 "nbformat_minor": 5
}
