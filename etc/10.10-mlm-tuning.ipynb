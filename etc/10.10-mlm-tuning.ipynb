{
 "cells": [
  {
   "cell_type": "markdown",
   "id": "947f7331-799e-457e-9b05-f707abd298e9",
   "metadata": {},
   "source": [
    "## MLM slots evals\n",
    "* Inputs:\n",
    "  * raw data: `../data/raw_cx_data.json` (10.01)\n",
    "  * CV splits: `../data/cv_splits_10.json` (10.01)"
   ]
  },
  {
   "cell_type": "code",
   "execution_count": 1,
   "id": "a002c61d-99e2-4e20-a1fd-8d739a3afd2d",
   "metadata": {},
   "outputs": [],
   "source": [
    "%load_ext autoreload\n",
    "%autoreload 2"
   ]
  },
  {
   "cell_type": "code",
   "execution_count": 2,
   "id": "46b8acef-ef12-40d0-9d27-fde1bd8b7f00",
   "metadata": {
    "tags": []
   },
   "outputs": [],
   "source": [
    "import json\n",
    "import pickle\n",
    "from pathlib import Path\n",
    "from hashlib import sha256\n",
    "from tqdm.auto import tqdm\n",
    "import torch\n",
    "import numpy as np\n",
    "from torch.nn import CrossEntropyLoss\n",
    "from transformers import BertTokenizerFast, BertForMaskedLM, BertModel\n",
    "from import_conart import conart\n",
    "from conart.mlm_masks import batched_text"
   ]
  },
  {
   "cell_type": "code",
   "execution_count": 3,
   "id": "7b571992-7a21-4000-80e1-bab0f9d8babb",
   "metadata": {},
   "outputs": [],
   "source": [
    "device = torch.device(\"cuda\") \\\n",
    "         if torch.cuda.is_available() else torch.device(\"cpu\")"
   ]
  },
  {
   "cell_type": "code",
   "execution_count": 4,
   "id": "e9a62670-63f0-45f2-98b1-f8aa45b47866",
   "metadata": {},
   "outputs": [
    {
     "data": {
      "text/plain": [
       "11642"
      ]
     },
     "execution_count": 4,
     "metadata": {},
     "output_type": "execute_result"
    }
   ],
   "source": [
    "data_path = \"../data/raw_cx_data.json\"\n",
    "with open(data_path, \"r\", encoding=\"UTF-8\") as fin:\n",
    "    data = json.load(fin)\n",
    "## Check data is the same\n",
    "h = sha256()\n",
    "h.update(pickle.dumps(data))\n",
    "data_hash = h.digest().hex()[:6]\n",
    "assert data_hash == \"4063b4\"\n",
    "len(data) # should be 11642"
   ]
  },
  {
   "cell_type": "code",
   "execution_count": 5,
   "id": "c7556dcc-1a31-40c8-b142-9a41f7e4ab47",
   "metadata": {},
   "outputs": [],
   "source": [
    "## Read cv splits\n",
    "with open(\"../data/cv_splits_10.json\", \"r\") as fin:\n",
    "    cv_splits = json.load(fin)"
   ]
  },
  {
   "cell_type": "code",
   "execution_count": 6,
   "id": "46be44f6-5e00-4f5c-ac66-aec6f4441879",
   "metadata": {},
   "outputs": [],
   "source": [
    "tokenizer = BertTokenizerFast.from_pretrained('bert-base-chinese')\n",
    "# model = BertForMaskedLM.from_pretrained('bert-base-chinese')\n",
    "model = BertForMaskedLM.from_pretrained('ckiplab/bert-base-chinese')\n",
    "model = model.to(device)"
   ]
  },
  {
   "cell_type": "markdown",
   "id": "5ce38a19-96c3-44c8-9985-a513758804be",
   "metadata": {},
   "source": [
    "## Evaluate splits"
   ]
  },
  {
   "cell_type": "code",
   "execution_count": 7,
   "id": "d978cb6d-17eb-45b4-95a9-ece138f1f9b0",
   "metadata": {},
   "outputs": [],
   "source": [
    "train_idxs, test_idxs = cv_splits[0].values()"
   ]
  },
  {
   "cell_type": "code",
   "execution_count": 8,
   "id": "ab1179ed-8332-46d9-99af-e5ca98da2f6c",
   "metadata": {},
   "outputs": [
    {
     "data": {
      "text/plain": [
       "{'board': 'BabyMother',\n",
       " 'text': ['再', '擠', '也', '擠', '不', '出來', '了'],\n",
       " 'cnstr': ['O', 'BX', 'IX', 'IX', 'IX', 'IX', 'O'],\n",
       " 'slot': ['O', 'BV', 'BC', 'BV', 'BC', 'BV', 'O'],\n",
       " 'cnstr_form': ['v', '也', 'v', '不', 'X'],\n",
       " 'cnstr_example': ['擠', '也', '擠', '不', '出來']}"
      ]
     },
     "execution_count": 8,
     "metadata": {},
     "output_type": "execute_result"
    }
   ],
   "source": [
    "xx = data[1211]\n",
    "xx"
   ]
  },
  {
   "cell_type": "code",
   "execution_count": 9,
   "id": "6eae2503-404a-4c48-b5f1-432570bc35e5",
   "metadata": {},
   "outputs": [
    {
     "data": {
      "text/plain": [
       "['masked', 'text', 'mindex', 'mindex_bool']"
      ]
     },
     "execution_count": 9,
     "metadata": {},
     "output_type": "execute_result"
    }
   ],
   "source": [
    "batch = batched_text(data, train_idxs[:5], \"vslot\")\n",
    "list(batch.keys())"
   ]
  },
  {
   "cell_type": "code",
   "execution_count": 10,
   "id": "074d156f-9ef2-4692-8e13-0bec68a2911f",
   "metadata": {},
   "outputs": [
    {
     "data": {
      "text/plain": [
       "array([[135, 137,  -1,  -1,  -1,  -1],\n",
       "       [ 13,  15,  -1,  -1,  -1,  -1],\n",
       "       [  3,   5,  -1,  -1,  -1,  -1],\n",
       "       [  0,   1,   2,   4,   5,   6],\n",
       "       [  0,   2,  -1,  -1,  -1,  -1]])"
      ]
     },
     "execution_count": 10,
     "metadata": {},
     "output_type": "execute_result"
    }
   ],
   "source": [
    "batch[\"mindex\"]"
   ]
  },
  {
   "cell_type": "code",
   "execution_count": 39,
   "id": "914cb830-5686-46a6-8abc-b4d4f75e400a",
   "metadata": {},
   "outputs": [],
   "source": [
    "loss_fct = CrossEntropyLoss(reduction=\"none\")\n",
    "def make_masked_ylabels(mindex: np.ndarray, ori_ids: torch.Tensor):            \n",
    "    ylabels = torch.zeros_like(ori_ids)-100\n",
    "    for i in range(mindex.shape[0]):\n",
    "        # add 1 for the extra [CLS] token added after tokenizer\n",
    "        j = mindex[i]+1        \n",
    "        j = j[(j>=0) & (j<512-2)]        \n",
    "        ylabels[i, j] = ori_ids[i, j]\n",
    "    return ylabels\n",
    "\n",
    "def compute_loss(logits, ylabels):\n",
    "    return loss_fct(logits, ylabels)"
   ]
  },
  {
   "cell_type": "code",
   "execution_count": 12,
   "id": "ee23edca-115d-479a-826b-7ec5d268e64d",
   "metadata": {},
   "outputs": [],
   "source": [
    "def compute_mlm_loss(train_idxs, use_mask, debug=False):\n",
    "    batch_size = 16\n",
    "    loss_vec = []    \n",
    "    \n",
    "    for i in tqdm(range(0, len(train_idxs), batch_size)):\n",
    "        data_idxs = train_idxs[i:i+batch_size]\n",
    "        batch = batched_text(data, data_idxs, use_mask)\n",
    "\n",
    "        # compute perplexity    \n",
    "        X = tokenizer(batch[\"masked\"], return_tensors=\"pt\", is_split_into_words=True, padding=True, truncation=True)\n",
    "        X = X.to(device)\n",
    "        Xori = tokenizer(batch[\"text\"], return_tensors=\"pt\", is_split_into_words=True, padding=True, truncation=True)\n",
    "        ylabels = make_masked_ylabels(batch[\"mindex\"], Xori[\"input_ids\"])\n",
    "        ylabels = ylabels.to(device)        \n",
    "        with torch.no_grad():\n",
    "            out = model(**X)\n",
    "            batch_loss = compute_loss(out.logits.swapdims(2, 1), ylabels)\n",
    "            # average over non-zero token losses\n",
    "            batch_loss = batch_loss.sum(1) / (batch_loss>0).sum(1)\n",
    "            loss_vec.extend(batch_loss.cpu().tolist())\n",
    "        if debug: break\n",
    "        \n",
    "    if debug:        \n",
    "        return {\"loss_vec\": np.array(loss_vec), \n",
    "                \"batch\": batch, \"ylabels\": ylabels, \"out\": out}\n",
    "    else:\n",
    "        return np.array(loss_vec)"
   ]
  },
  {
   "cell_type": "markdown",
   "id": "470c31f5-1db7-4bf1-975c-9d27b6c65f7c",
   "metadata": {},
   "source": [
    "## eval VSlot"
   ]
  },
  {
   "cell_type": "code",
   "execution_count": 51,
   "id": "7e77cc4e-cbd4-465d-a3a9-80b3557bf3b1",
   "metadata": {},
   "outputs": [
    {
     "data": {
      "application/vnd.jupyter.widget-view+json": {
       "model_id": "81d07df6230a4888a2e83931f3cb6207",
       "version_major": 2,
       "version_minor": 0
      },
      "text/plain": [
       "  0%|          | 0/73 [00:00<?, ?it/s]"
      ]
     },
     "metadata": {},
     "output_type": "display_data"
    },
    {
     "data": {
      "text/plain": [
       "(9.508307444639984, 2.4535534203544205)"
      ]
     },
     "execution_count": 51,
     "metadata": {},
     "output_type": "execute_result"
    }
   ],
   "source": [
    "vslot_losses = compute_mlm_loss(test_idxs, \"vslot\")\n",
    "np.mean(vslot_losses), np.std(vslot_losses)"
   ]
  },
  {
   "cell_type": "markdown",
   "id": "6fcd1d91-987f-4eac-aa84-aa11627fb876",
   "metadata": {},
   "source": [
    "## random vslot"
   ]
  },
  {
   "cell_type": "code",
   "execution_count": 23,
   "id": "21648fc2-a913-4d23-adb1-c1ab8d17f083",
   "metadata": {},
   "outputs": [
    {
     "data": {
      "application/vnd.jupyter.widget-view+json": {
       "model_id": "d593d5cc39c8470bb4380985f490ff30",
       "version_major": 2,
       "version_minor": 0
      },
      "text/plain": [
       "  0%|          | 0/73 [00:00<?, ?it/s]"
      ]
     },
     "metadata": {},
     "output_type": "display_data"
    },
    {
     "name": "stdout",
     "output_type": "stream",
     "text": [
      "# of nan:  0\n"
     ]
    },
    {
     "data": {
      "text/plain": [
       "(6.354940402090685, 2.3365540636265774)"
      ]
     },
     "execution_count": 23,
     "metadata": {},
     "output_type": "execute_result"
    }
   ],
   "source": [
    "rv_losses = compute_mlm_loss(test_idxs, \"random-vslot\")\n",
    "print(\"# of nan: \", np.sum(np.isnan(rv_losses)))\n",
    "np.nanmean(rv_losses), np.nanstd(rv_losses)"
   ]
  },
  {
   "cell_type": "markdown",
   "id": "5d0cd801-4cc0-4938-864d-4545771eed9d",
   "metadata": {},
   "source": [
    "## eval cslot"
   ]
  },
  {
   "cell_type": "code",
   "execution_count": 15,
   "id": "08866371-83db-45cf-ae96-3e58b5dab7d4",
   "metadata": {},
   "outputs": [
    {
     "data": {
      "application/vnd.jupyter.widget-view+json": {
       "model_id": "3ef6c50d2e76495fbb4c7f189c04e87c",
       "version_major": 2,
       "version_minor": 0
      },
      "text/plain": [
       "  0%|          | 0/73 [00:00<?, ?it/s]"
      ]
     },
     "metadata": {},
     "output_type": "display_data"
    },
    {
     "data": {
      "text/plain": [
       "(8.085005015365043, 2.435851597715492)"
      ]
     },
     "execution_count": 15,
     "metadata": {},
     "output_type": "execute_result"
    }
   ],
   "source": [
    "cslot_losses = compute_mlm_loss(test_idxs, \"cslot\")\n",
    "np.mean(cslot_losses), np.std(cslot_losses)"
   ]
  },
  {
   "cell_type": "markdown",
   "id": "0e7c94af-67b5-420e-8dd2-1e7b243ad2f3",
   "metadata": {
    "tags": []
   },
   "source": [
    "## Random cslot"
   ]
  },
  {
   "cell_type": "code",
   "execution_count": 24,
   "id": "93d33ede-23d2-49d5-b2b1-90ed1c7188ba",
   "metadata": {},
   "outputs": [
    {
     "data": {
      "application/vnd.jupyter.widget-view+json": {
       "model_id": "338f6b2ec174473da349b288eb6108a7",
       "version_major": 2,
       "version_minor": 0
      },
      "text/plain": [
       "  0%|          | 0/73 [00:00<?, ?it/s]"
      ]
     },
     "metadata": {},
     "output_type": "display_data"
    },
    {
     "name": "stdout",
     "output_type": "stream",
     "text": [
      "# of nan:  0\n"
     ]
    },
    {
     "data": {
      "text/plain": [
       "(7.676952773194296, 2.6099878297632646)"
      ]
     },
     "execution_count": 24,
     "metadata": {},
     "output_type": "execute_result"
    }
   ],
   "source": [
    "rc_losses = compute_mlm_loss(test_idxs, \"random-cslot\")\n",
    "print(\"# of nan: \", np.sum(np.isnan(rc_losses)))\n",
    "np.nanmean(rc_losses), np.nanstd(rc_losses)"
   ]
  },
  {
   "cell_type": "markdown",
   "id": "0d32003f-cb27-4dd7-9436-db7a64cd0647",
   "metadata": {},
   "source": [
    "## Eval Construtions"
   ]
  },
  {
   "cell_type": "code",
   "execution_count": 54,
   "id": "35451648-0be0-49d2-aa67-43a393edbc60",
   "metadata": {},
   "outputs": [
    {
     "data": {
      "text/plain": [
       "array([0, 0, 1, 1, 1, 0])"
      ]
     },
     "execution_count": 54,
     "metadata": {},
     "output_type": "execute_result"
    }
   ],
   "source": [
    "np.roll([1,1,1,0,0,0], 2, axis=0)"
   ]
  },
  {
   "cell_type": "code",
   "execution_count": 16,
   "id": "bad2bf4a-6757-4dea-88b4-72dec101bfe8",
   "metadata": {},
   "outputs": [
    {
     "data": {
      "application/vnd.jupyter.widget-view+json": {
       "model_id": "79a2656ad6224392810aac179198dd62",
       "version_major": 2,
       "version_minor": 0
      },
      "text/plain": [
       "  0%|          | 0/73 [00:00<?, ?it/s]"
      ]
     },
     "metadata": {},
     "output_type": "display_data"
    },
    {
     "data": {
      "text/plain": [
       "(8.558957640602864, 1.5269846388693975)"
      ]
     },
     "execution_count": 16,
     "metadata": {},
     "output_type": "execute_result"
    }
   ],
   "source": [
    "cx_losses = compute_mlm_loss(test_idxs, \"cx\")\n",
    "np.mean(cx_losses), np.std(cx_losses)"
   ]
  },
  {
   "cell_type": "markdown",
   "id": "8e0a4981-b3b7-4303-9d21-0e0068c33bcd",
   "metadata": {},
   "source": [
    "## Random constr"
   ]
  },
  {
   "cell_type": "code",
   "execution_count": 52,
   "id": "b3ff0b58-f339-45fa-8158-e4aa5b7fbdbf",
   "metadata": {},
   "outputs": [
    {
     "data": {
      "application/vnd.jupyter.widget-view+json": {
       "model_id": "2bd7c295bd764d4086597f4739952110",
       "version_major": 2,
       "version_minor": 0
      },
      "text/plain": [
       "  0%|          | 0/73 [00:00<?, ?it/s]"
      ]
     },
     "metadata": {},
     "output_type": "display_data"
    },
    {
     "data": {
      "text/plain": [
       "(6.123976794320114, 2.01946610733562)"
      ]
     },
     "execution_count": 52,
     "metadata": {},
     "output_type": "execute_result"
    }
   ],
   "source": [
    "rx_losses = compute_mlm_loss(test_idxs, \"random-cx\")\n",
    "np.mean(rx_losses), np.std(rx_losses)"
   ]
  },
  {
   "cell_type": "markdown",
   "id": "d782776a-076e-4a57-a49f-008707f2122b",
   "metadata": {},
   "source": [
    "## sanity check"
   ]
  },
  {
   "cell_type": "code",
   "execution_count": 124,
   "id": "0e1a4f62-596a-467f-ad6e-2c0a90323360",
   "metadata": {},
   "outputs": [],
   "source": [
    "batch = {'masked': [['今', '[MASK]']],\n",
    " 'text': [['今', '天']],\n",
    " 'mindex': np.array([[1]]),\n",
    " 'mindex_bool': np.array([[ True]])}"
   ]
  },
  {
   "cell_type": "code",
   "execution_count": 125,
   "id": "ff99231c-7129-4007-8587-62393fba74ab",
   "metadata": {},
   "outputs": [
    {
     "name": "stdout",
     "output_type": "stream",
     "text": [
      "5.4197540283203125\n"
     ]
    }
   ],
   "source": [
    "X = tokenizer(batch[\"masked\"], return_tensors=\"pt\", is_split_into_words=True, padding=True, truncation=True)\n",
    "X = X.to(device)\n",
    "Xori = tokenizer(batch[\"text\"], return_tensors=\"pt\", is_split_into_words=True, padding=True, truncation=True)\n",
    "ylabels = make_masked_ylabels(batch[\"mindex\"], Xori[\"input_ids\"])\n",
    "ylabels = ylabels.to(device)\n",
    "with torch.no_grad():\n",
    "    out = model(**X, labels=ylabels)\n",
    "    loss_batch = out.loss.cpu().item()\n",
    "    print(loss_batch)"
   ]
  },
  {
   "cell_type": "code",
   "execution_count": 127,
   "id": "c4b39709-59f1-4c79-a86c-ff14a9eca120",
   "metadata": {},
   "outputs": [
    {
     "data": {
      "text/plain": [
       "5.4197540283203125"
      ]
     },
     "execution_count": 127,
     "metadata": {},
     "output_type": "execute_result"
    }
   ],
   "source": [
    "loss = compute_loss(out.logits.swapdims(2, 1), ylabels)\n",
    "(loss.sum(1) / (loss>0).sum()).cpu().item()"
   ]
  },
  {
   "cell_type": "markdown",
   "id": "ded55c7f-78b1-4ebb-9805-b03492734aed",
   "metadata": {},
   "source": [
    "## For debug"
   ]
  },
  {
   "cell_type": "code",
   "execution_count": 48,
   "id": "3a5ba708-274f-4c60-a6c1-2f96bb764237",
   "metadata": {},
   "outputs": [
    {
     "data": {
      "application/vnd.jupyter.widget-view+json": {
       "model_id": "d16c92df648a4d2baf7a1b6456daa4d7",
       "version_major": 2,
       "version_minor": 0
      },
      "text/plain": [
       "  0%|          | 0/1 [00:00<?, ?it/s]"
      ]
     },
     "metadata": {},
     "output_type": "display_data"
    },
    {
     "data": {
      "text/plain": [
       "tensor([[-100, -100, -100, -100, -100, -100, -100, -100, -100, -100, -100, -100,\n",
       "         1044, -100, -100, -100, -100, -100, -100, -100, -100, -100, -100, -100,\n",
       "         -100, -100, -100, -100, -100, -100, -100, -100]], device='cuda:0')"
      ]
     },
     "execution_count": 48,
     "metadata": {},
     "output_type": "execute_result"
    }
   ],
   "source": [
    "aa = compute_mlm_loss(test_idxs[1:2], \"random-cslot\", debug=True)\n",
    "aa[\"ylabels\"]"
   ]
  },
  {
   "cell_type": "code",
   "execution_count": 50,
   "id": "4a1b1ee4-501c-46e9-8e1d-7194c170b9cf",
   "metadata": {},
   "outputs": [
    {
     "data": {
      "application/vnd.jupyter.widget-view+json": {
       "model_id": "b575d6277492445fa365671a4228c9f0",
       "version_major": 2,
       "version_minor": 0
      },
      "text/plain": [
       "  0%|          | 0/1 [00:00<?, ?it/s]"
      ]
     },
     "metadata": {},
     "output_type": "display_data"
    },
    {
     "data": {
      "text/plain": [
       "{'loss_vec': array([5.19510221]),\n",
       " 'batch': {'masked': [['我',\n",
       "    '覺',\n",
       "    '得',\n",
       "    '這',\n",
       "    '位',\n",
       "    '護',\n",
       "    '理',\n",
       "    '師',\n",
       "    '錯',\n",
       "    '就',\n",
       "    '錯',\n",
       "    '[MASK]',\n",
       "    '抽',\n",
       "    '了',\n",
       "    '一',\n",
       "    '[MASK]',\n",
       "    '不',\n",
       "    '理',\n",
       "    '性',\n",
       "    '孕',\n",
       "    '婦',\n",
       "    '的',\n",
       "    '血',\n",
       "    '吧',\n",
       "    '你',\n",
       "    '當',\n",
       "    '下',\n",
       "    '可',\n",
       "    '以',\n",
       "    '不',\n",
       "    '要',\n",
       "    '哭',\n",
       "    '好',\n",
       "    '好',\n",
       "    '跟',\n",
       "    '她',\n",
       "    '溝',\n",
       "    '通',\n",
       "    '請',\n",
       "    '她',\n",
       "    '換',\n",
       "    '人',\n",
       "    '抽',\n",
       "    '吧',\n",
       "    '樓',\n",
       "    '上',\n",
       "    '你',\n",
       "    '好']],\n",
       "  'text': [['我',\n",
       "    '覺',\n",
       "    '得',\n",
       "    '這',\n",
       "    '位',\n",
       "    '護',\n",
       "    '理',\n",
       "    '師',\n",
       "    '錯',\n",
       "    '就',\n",
       "    '錯',\n",
       "    '在',\n",
       "    '抽',\n",
       "    '了',\n",
       "    '一',\n",
       "    '位',\n",
       "    '不',\n",
       "    '理',\n",
       "    '性',\n",
       "    '孕',\n",
       "    '婦',\n",
       "    '的',\n",
       "    '血',\n",
       "    '吧',\n",
       "    '你',\n",
       "    '當',\n",
       "    '下',\n",
       "    '可',\n",
       "    '以',\n",
       "    '不',\n",
       "    '要',\n",
       "    '哭',\n",
       "    '好',\n",
       "    '好',\n",
       "    '跟',\n",
       "    '她',\n",
       "    '溝',\n",
       "    '通',\n",
       "    '請',\n",
       "    '她',\n",
       "    '換',\n",
       "    '人',\n",
       "    '抽',\n",
       "    '吧',\n",
       "    '樓',\n",
       "    '上',\n",
       "    '你',\n",
       "    '好']],\n",
       "  'mindex': array([[11, 15]]),\n",
       "  'mindex_bool': array([[ True,  True]])},\n",
       " 'ylabels': tensor([[-100, -100, -100, -100, -100, -100, -100, -100, -100, -100, -100, -100,\n",
       "          1762, -100, -100, -100,  855, -100, -100, -100, -100, -100, -100, -100,\n",
       "          -100, -100, -100, -100, -100, -100, -100, -100, -100, -100, -100, -100,\n",
       "          -100, -100, -100, -100, -100, -100, -100, -100, -100, -100, -100, -100,\n",
       "          -100, -100]], device='cuda:0'),\n",
       " 'out': MaskedLMOutput(loss=None, logits=tensor([[[ -7.4832,  -7.0938,  -7.0394,  ...,  -4.7316,  -4.2512,  -6.1847],\n",
       "          [-12.7166, -10.6621, -10.4491,  ...,  -5.6181,  -8.1767,  -9.5996],\n",
       "          [-15.0834, -12.1213, -13.1338,  ...,  -8.9814,  -9.1971, -13.5536],\n",
       "          ...,\n",
       "          [-10.6557, -10.0230,  -7.9081,  ...,  -3.3471,  -4.7994,  -6.6893],\n",
       "          [ -8.6336,  -6.7682,  -6.6582,  ...,  -3.6058,  -4.7936,  -5.3883],\n",
       "          [ -7.4842,  -7.0937,  -7.0400,  ...,  -4.7287,  -4.2499,  -6.1847]]],\n",
       "        device='cuda:0'), hidden_states=None, attentions=None)}"
      ]
     },
     "execution_count": 50,
     "metadata": {},
     "output_type": "execute_result"
    }
   ],
   "source": [
    "aa = compute_mlm_loss([test_idxs[0]], \"random-cslot\", debug=True)\n",
    "aa"
   ]
  },
  {
   "cell_type": "code",
   "execution_count": null,
   "id": "fba799d8-1901-4b97-82bd-036d09e10c78",
   "metadata": {},
   "outputs": [],
   "source": []
  }
 ],
 "metadata": {
  "kernelspec": {
   "display_name": "Python 3 (ipykernel)",
   "language": "python",
   "name": "python3"
  },
  "language_info": {
   "codemirror_mode": {
    "name": "ipython",
    "version": 3
   },
   "file_extension": ".py",
   "mimetype": "text/x-python",
   "name": "python",
   "nbconvert_exporter": "python",
   "pygments_lexer": "ipython3",
   "version": "3.9.5"
  }
 },
 "nbformat": 4,
 "nbformat_minor": 5
}
