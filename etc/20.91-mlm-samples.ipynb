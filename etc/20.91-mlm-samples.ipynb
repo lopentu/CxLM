{
 "cells": [
  {
   "cell_type": "markdown",
   "id": "947f7331-799e-457e-9b05-f707abd298e9",
   "metadata": {},
   "source": [
    "## MLM-tuned Accuracies\n",
    "* Inputs:\n",
    "  * raw data: `../data/raw_cx_data.json` (10.01)\n",
    "  * CV splits: `../data/cv_splits_10.json` (10.01)\n",
    "  * MLM-tuned: `../data/models/apricot_mlm_03` (20.10)  \n",
    "* Outputs:\n",
    "  * (none)"
   ]
  },
  {
   "cell_type": "code",
   "execution_count": 1,
   "id": "a002c61d-99e2-4e20-a1fd-8d739a3afd2d",
   "metadata": {},
   "outputs": [],
   "source": [
    "%load_ext autoreload\n",
    "%autoreload 2"
   ]
  },
  {
   "cell_type": "code",
   "execution_count": 3,
   "id": "46b8acef-ef12-40d0-9d27-fde1bd8b7f00",
   "metadata": {
    "tags": []
   },
   "outputs": [],
   "source": [
    "import json\n",
    "import pickle\n",
    "from pathlib import Path\n",
    "from hashlib import sha256\n",
    "from tqdm.auto import tqdm\n",
    "import torch\n",
    "import numpy as np\n",
    "from itertools import chain\n",
    "from transformers import BertTokenizerFast, BertForMaskedLM, BertModel\n",
    "from import_conart import conart\n",
    "from conart.mlm_masks import batched_text, batched_text_gan, get_equality_constraints\n",
    "from conart.sample import sample_site"
   ]
  },
  {
   "cell_type": "code",
   "execution_count": 4,
   "id": "7b571992-7a21-4000-80e1-bab0f9d8babb",
   "metadata": {},
   "outputs": [],
   "source": [
    "device = torch.device(\"cuda\") \\\n",
    "         if torch.cuda.is_available() else torch.device(\"cpu\")"
   ]
  },
  {
   "cell_type": "code",
   "execution_count": 5,
   "id": "e9a62670-63f0-45f2-98b1-f8aa45b47866",
   "metadata": {},
   "outputs": [
    {
     "data": {
      "text/plain": [
       "11642"
      ]
     },
     "execution_count": 5,
     "metadata": {},
     "output_type": "execute_result"
    }
   ],
   "source": [
    "data_path = \"../data/raw_cx_data.json\"\n",
    "with open(data_path, \"r\", encoding=\"UTF-8\") as fin:\n",
    "    data = json.load(fin)\n",
    "## Check data is the same\n",
    "h = sha256()\n",
    "h.update(pickle.dumps(data))\n",
    "data_hash = h.digest().hex()[:6]\n",
    "assert data_hash == \"4063b4\"\n",
    "len(data) # should be 11642"
   ]
  },
  {
   "cell_type": "code",
   "execution_count": 6,
   "id": "c7556dcc-1a31-40c8-b142-9a41f7e4ab47",
   "metadata": {},
   "outputs": [],
   "source": [
    "## Read cv splits\n",
    "with open(\"../data/cv_splits_10.json\", \"r\") as fin:\n",
    "    cv_splits = json.load(fin)"
   ]
  },
  {
   "cell_type": "code",
   "execution_count": 7,
   "id": "46be44f6-5e00-4f5c-ac66-aec6f4441879",
   "metadata": {},
   "outputs": [],
   "source": [
    "tokenizer = BertTokenizerFast.from_pretrained('bert-base-chinese')\n",
    "# model = BertForMaskedLM.from_pretrained('bert-base-chinese')\n",
    "# model = BertForMaskedLM.from_pretrained('ckiplab/bert-base-chinese')\n",
    "model = BertForMaskedLM.from_pretrained('../data/models/apricot_mlm_03')\n",
    "model = model.to(device)\n",
    "ckip_model = BertForMaskedLM.from_pretrained('ckiplab/bert-base-chinese')\n",
    "ckip_model = ckip_model.to(device)"
   ]
  },
  {
   "cell_type": "markdown",
   "id": "5ce38a19-96c3-44c8-9985-a513758804be",
   "metadata": {},
   "source": [
    "## Checking input data"
   ]
  },
  {
   "cell_type": "code",
   "execution_count": 8,
   "id": "d978cb6d-17eb-45b4-95a9-ece138f1f9b0",
   "metadata": {},
   "outputs": [],
   "source": [
    "train_idxs, test_idxs = cv_splits[0].values()"
   ]
  },
  {
   "cell_type": "code",
   "execution_count": 9,
   "id": "ab1179ed-8332-46d9-99af-e5ca98da2f6c",
   "metadata": {},
   "outputs": [
    {
     "data": {
      "text/plain": [
       "{'board': 'BabyMother',\n",
       " 'text': ['再', '擠', '也', '擠', '不', '出來', '了'],\n",
       " 'cnstr': ['O', 'BX', 'IX', 'IX', 'IX', 'IX', 'O'],\n",
       " 'slot': ['O', 'BV', 'BC', 'BV', 'BC', 'BV', 'O'],\n",
       " 'cnstr_form': ['v', '也', 'v', '不', 'X'],\n",
       " 'cnstr_example': ['擠', '也', '擠', '不', '出來']}"
      ]
     },
     "execution_count": 9,
     "metadata": {},
     "output_type": "execute_result"
    }
   ],
   "source": [
    "xx = data[1211]\n",
    "xx"
   ]
  },
  {
   "cell_type": "code",
   "execution_count": 10,
   "id": "6eae2503-404a-4c48-b5f1-432570bc35e5",
   "metadata": {},
   "outputs": [
    {
     "data": {
      "text/plain": [
       "['masked', 'text', 'mindex', 'mindex_bool']"
      ]
     },
     "execution_count": 10,
     "metadata": {},
     "output_type": "execute_result"
    }
   ],
   "source": [
    "batch = batched_text(data, train_idxs[:5], \"vslot\")\n",
    "def get_cnstr_eqs(cxinst):\n",
    "    cnstr_eqs = {\n",
    "        \"text\": \"\".join(chain.from_iterable(cxinst[\"text\"])),\n",
    "        \"form\": cxinst[\"cnstr_form\"],\n",
    "        \"example\": cxinst[\"cnstr_example\"],\n",
    "        \"eqs\": get_equality_constraints(cxinst)\n",
    "    }\n",
    "    return cnstr_eqs\n",
    "list(batch.keys())"
   ]
  },
  {
   "cell_type": "markdown",
   "id": "34750e05-eab1-4d53-a1c4-0b3efdbdf44b",
   "metadata": {},
   "source": [
    "## Generage samples"
   ]
  },
  {
   "cell_type": "code",
   "execution_count": 13,
   "id": "e5a7c7e7-bdc4-4afa-b537-1ab8c3b80019",
   "metadata": {},
   "outputs": [],
   "source": [
    "def generate_guesses(test_idx):\n",
    "    batch = batched_text(data, test_idxs[test_idx:test_idx+1], 'vslot')\n",
    "    print(\"Masked\", \"\".join(batch[\"masked\"][0]))\n",
    "    print(\"Origin\", \"\".join(batch[\"text\"][0]))\n",
    "    samples = sample_site(batch, model, tokenizer)[0]\n",
    "    prob_sort = samples[\"probs\"].sum(0).argsort()\n",
    "    print(\"Model (separated): \", tokenizer.batch_decode(samples[\"ids\"]))\n",
    "    samples = sample_site(batch, model, tokenizer, merge_pair2=True)[0]\n",
    "    prob_sort = samples[\"probs\"].sum(0).argsort()\n",
    "    print(\"Model (merged): \", tokenizer.batch_decode(samples[\"ids\"]))"
   ]
  },
  {
   "cell_type": "code",
   "execution_count": 14,
   "id": "ceb2e8c4-bc6f-40f5-96e4-e736b2d5f2a2",
   "metadata": {},
   "outputs": [
    {
     "name": "stdout",
     "output_type": "stream",
     "text": [
      "Masked 裡面的紅蘿蔔和馬鈴薯也很入味泡麵這樣[MASK]一[MASK]味道很棒耶\n",
      "Origin 裡面的紅蘿蔔和馬鈴薯也很入味泡麵這樣拌一拌味道很棒耶\n",
      "Model (separated):  ['拌 煮 吃 炒 炸 涮 夾 泡 蒸 烤', '拌 吃 煮 炸 涮 炒 泡 夾 烤 做']\n",
      "Model (merged):  ['拌', '吃', '煮', '炸', '炒', '涮', '夾', '泡', '烤', '蒸']\n"
     ]
    }
   ],
   "source": [
    "generate_guesses(100)"
   ]
  },
  {
   "cell_type": "code",
   "execution_count": 23,
   "id": "91ef311e-9a68-4244-88f3-b0c1a6613bbd",
   "metadata": {},
   "outputs": [
    {
     "name": "stdout",
     "output_type": "stream",
     "text": [
      "Masked 什麼叫不[MASK]白不[MASK]當那兩千多塊不用付嗎\n",
      "Origin 什麼叫不刷白不刷當那兩千多塊不用付嗎\n",
      "Model (separated):  ['吃 賺 拿 給 買 付 算 領 做 收', '上 敢 用 能 拿 要 難 好 擔 吃']\n",
      "Model (merged):  ['拿', '吃', '敢', '用', '給', '上', '能', '要', '買', '做']\n"
     ]
    }
   ],
   "source": [
    "generate_guesses(40)"
   ]
  },
  {
   "cell_type": "code",
   "execution_count": 24,
   "id": "d3bf5d54-67bb-490c-b4e4-8ccfb1355cde",
   "metadata": {},
   "outputs": [
    {
     "name": "stdout",
     "output_type": "stream",
     "text": [
      "Masked 運動強度沒有太高圖個[MASK]一[MASK]\n",
      "Origin 運動強度沒有太高圖個動一動\n",
      "Model (separated):  ['升 緩 加 動 忍 玩 瘦 練 晃 撐', '緩 忍 升 加 動 醒 笑 想 練 晃']\n",
      "Model (merged):  ['升', '緩', '忍', '加', '動', '醒', '練', '晃', '玩', '想']\n"
     ]
    }
   ],
   "source": [
    "generate_guesses(3)"
   ]
  },
  {
   "cell_type": "code",
   "execution_count": null,
   "id": "f4bb0827-ec31-4064-8010-d9aadb696d67",
   "metadata": {},
   "outputs": [],
   "source": []
  }
 ],
 "metadata": {
  "kernelspec": {
   "display_name": "Python 3 (ipykernel)",
   "language": "python",
   "name": "python3"
  },
  "language_info": {
   "codemirror_mode": {
    "name": "ipython",
    "version": 3
   },
   "file_extension": ".py",
   "mimetype": "text/x-python",
   "name": "python",
   "nbconvert_exporter": "python",
   "pygments_lexer": "ipython3",
   "version": "3.9.5"
  }
 },
 "nbformat": 4,
 "nbformat_minor": 5
}
