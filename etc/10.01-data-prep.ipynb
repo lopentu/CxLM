{
 "cells": [
  {
   "cell_type": "markdown",
   "id": "301f8eca-55fc-4fbc-ad73-631cb279042a",
   "metadata": {},
   "source": [
    "## Data preparation\n",
    "* Input: \n",
    "  * `../data/raw_cx_data.csv|json`\n",
    "* Output:   \n",
    "  * `../data/output/cx_counter.csv`\n",
    "  * `../data/output/board_counter.csv`\n",
    "  * `../data/cv_splits_10.json`"
   ]
  },
  {
   "cell_type": "code",
   "execution_count": 1,
   "id": "46b8acef-ef12-40d0-9d27-fde1bd8b7f00",
   "metadata": {},
   "outputs": [],
   "source": [
    "import ast\n",
    "import json\n",
    "import pickle\n",
    "from pathlib import Path\n",
    "from hashlib import sha256\n",
    "import pandas as pd"
   ]
  },
  {
   "cell_type": "code",
   "execution_count": 2,
   "id": "e9a62670-63f0-45f2-98b1-f8aa45b47866",
   "metadata": {},
   "outputs": [],
   "source": [
    "data_path = \"../data/raw_cx_data.json\"\n",
    "if not Path(data_path).exists():\n",
    "    cxdata = pd.read_csv(\"../data/raw_cx_data.csv\")    \n",
    "    def eval_obj(x):\n",
    "        ret = {}\n",
    "        for k, v in x.items():\n",
    "            if k == \"board\":\n",
    "                ret[k] = v\n",
    "            else:\n",
    "                ret[k] = ast.literal_eval(v)\n",
    "        return ret\n",
    "    data = cxdata.to_dict(orient=\"records\")\n",
    "    data = [eval_obj(x) for x in data]\n",
    "else:\n",
    "    with open(data_path, \"r\", encoding=\"UTF-8\") as fin:\n",
    "        data = json.load(fin)"
   ]
  },
  {
   "cell_type": "code",
   "execution_count": 3,
   "id": "334603c4-5629-495e-86c3-9be593962eb4",
   "metadata": {},
   "outputs": [
    {
     "data": {
      "text/plain": [
       "11642"
      ]
     },
     "execution_count": 3,
     "metadata": {},
     "output_type": "execute_result"
    }
   ],
   "source": [
    "## Check data is the same\n",
    "h = sha256()\n",
    "h.update(pickle.dumps(data))\n",
    "data_hash = h.digest().hex()[:6]\n",
    "assert data_hash == \"4063b4\"\n",
    "len(data) # should be 11642"
   ]
  },
  {
   "cell_type": "code",
   "execution_count": 4,
   "id": "dd3f6426-9692-40eb-abb0-7b9f8cf7727a",
   "metadata": {},
   "outputs": [],
   "source": [
    "from collections import Counter\n",
    "cx_counter = Counter(\"+\".join(x[\"cnstr_form\"]) for x in data).most_common()\n",
    "board_counter = Counter(x[\"board\"] for x in data).most_common()\n",
    "cx_counter = pd.DataFrame.from_records(cx_counter, columns=[\"cnstr\", \"freq\"])\n",
    "board_counter = pd.DataFrame.from_records(board_counter, columns=[\"board\", \"freq\"])\n",
    "Path(\"../data/output\").mkdir(parents=True, exist_ok=True)\n",
    "cx_counter.to_csv(\"../data/output/cx_counter.csv\")\n",
    "board_counter.to_csv(\"../data/output/board_counter.csv\")"
   ]
  },
  {
   "cell_type": "markdown",
   "id": "0b22ec6c-a17d-45d7-91a6-1b57dbe172da",
   "metadata": {},
   "source": [
    "## Splitting data"
   ]
  },
  {
   "cell_type": "code",
   "execution_count": 5,
   "id": "a4782e29-39bf-4aa7-bbc3-87a4842fecb0",
   "metadata": {},
   "outputs": [],
   "source": [
    "from sklearn.model_selection import train_test_split\n",
    "cv_splits = []\n",
    "for i in range(10):\n",
    "    train_idxs, test_idxs = train_test_split(range(len(data)), test_size=0.1, \n",
    "                        stratify=[\"+\".join(x[\"cnstr_form\"]) for x in data], \n",
    "                        random_state=65232+i)\n",
    "    cv_splits.append({\"train\": train_idxs, \"test\": test_idxs})\n",
    "with open(\"../data/cv_splits_10.json\", \"w\") as fout:\n",
    "    json.dump(cv_splits, fout)"
   ]
  }
 ],
 "metadata": {
  "kernelspec": {
   "display_name": "Python 3 (ipykernel)",
   "language": "python",
   "name": "python3"
  },
  "language_info": {
   "codemirror_mode": {
    "name": "ipython",
    "version": 3
   },
   "file_extension": ".py",
   "mimetype": "text/x-python",
   "name": "python",
   "nbconvert_exporter": "python",
   "pygments_lexer": "ipython3",
   "version": "3.9.5"
  }
 },
 "nbformat": 4,
 "nbformat_minor": 5
}
