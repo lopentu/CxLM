{
 "cells": [
  {
   "cell_type": "markdown",
   "id": "947f7331-799e-457e-9b05-f707abd298e9",
   "metadata": {},
   "source": [
    "## MLM-tuned Contour plot\n",
    "* Inputs:\n",
    "  * raw data: `../data/raw_cx_data.json` (10.01)\n",
    "  * CV splits: `../data/cv_splits_10.json` (10.01)\n",
    "  * MLM-tuned: `../data/models/apricot_mlm_03` (20.10)  \n",
    "* Outputs:\n",
    "  * (none)"
   ]
  },
  {
   "cell_type": "code",
   "execution_count": 1,
   "id": "a002c61d-99e2-4e20-a1fd-8d739a3afd2d",
   "metadata": {},
   "outputs": [],
   "source": [
    "%load_ext autoreload\n",
    "%autoreload 2"
   ]
  },
  {
   "cell_type": "code",
   "execution_count": 2,
   "id": "46b8acef-ef12-40d0-9d27-fde1bd8b7f00",
   "metadata": {
    "tags": []
   },
   "outputs": [],
   "source": [
    "import json\n",
    "import pickle\n",
    "from pathlib import Path\n",
    "from hashlib import sha256\n",
    "from tqdm.auto import tqdm\n",
    "import torch\n",
    "import numpy as np\n",
    "from itertools import chain\n",
    "from torch.nn import CrossEntropyLoss\n",
    "from transformers import BertTokenizerFast, BertForMaskedLM, BertModel\n",
    "from import_conart import conart\n",
    "from conart.mlm_masks import batched_text, batched_text_gan, get_equality_constraints\n",
    "from conart.sample import sample_site"
   ]
  },
  {
   "cell_type": "code",
   "execution_count": 3,
   "id": "7b571992-7a21-4000-80e1-bab0f9d8babb",
   "metadata": {},
   "outputs": [],
   "source": [
    "device = torch.device(\"cuda\") \\\n",
    "         if torch.cuda.is_available() else torch.device(\"cpu\")"
   ]
  },
  {
   "cell_type": "code",
   "execution_count": 4,
   "id": "e9a62670-63f0-45f2-98b1-f8aa45b47866",
   "metadata": {},
   "outputs": [
    {
     "data": {
      "text/plain": [
       "11642"
      ]
     },
     "execution_count": 4,
     "metadata": {},
     "output_type": "execute_result"
    }
   ],
   "source": [
    "data_path = \"../data/raw_cx_data.json\"\n",
    "with open(data_path, \"r\", encoding=\"UTF-8\") as fin:\n",
    "    data = json.load(fin)\n",
    "## Check data is the same\n",
    "h = sha256()\n",
    "h.update(pickle.dumps(data))\n",
    "data_hash = h.digest().hex()[:6]\n",
    "assert data_hash == \"4063b4\"\n",
    "len(data) # should be 11642"
   ]
  },
  {
   "cell_type": "code",
   "execution_count": 5,
   "id": "c7556dcc-1a31-40c8-b142-9a41f7e4ab47",
   "metadata": {},
   "outputs": [],
   "source": [
    "## Read cv splits\n",
    "with open(\"../data/cv_splits_10.json\", \"r\") as fin:\n",
    "    cv_splits = json.load(fin)"
   ]
  },
  {
   "cell_type": "code",
   "execution_count": 6,
   "id": "46be44f6-5e00-4f5c-ac66-aec6f4441879",
   "metadata": {},
   "outputs": [],
   "source": [
    "tokenizer = BertTokenizerFast.from_pretrained('bert-base-chinese')\n",
    "# model = BertForMaskedLM.from_pretrained('bert-base-chinese')\n",
    "# model = BertForMaskedLM.from_pretrained('ckiplab/bert-base-chinese')\n",
    "model = BertForMaskedLM.from_pretrained('../data/models/apricot_mlm_03')\n",
    "model = model.to(device)\n",
    "ckip_model = BertForMaskedLM.from_pretrained('ckiplab/bert-base-chinese')\n",
    "ckip_model = ckip_model.to(device)"
   ]
  },
  {
   "cell_type": "markdown",
   "id": "5ce38a19-96c3-44c8-9985-a513758804be",
   "metadata": {},
   "source": [
    "## Checking input data"
   ]
  },
  {
   "cell_type": "code",
   "execution_count": 7,
   "id": "d978cb6d-17eb-45b4-95a9-ece138f1f9b0",
   "metadata": {},
   "outputs": [],
   "source": [
    "train_idxs, test_idxs = cv_splits[0].values()"
   ]
  },
  {
   "cell_type": "code",
   "execution_count": 8,
   "id": "ab1179ed-8332-46d9-99af-e5ca98da2f6c",
   "metadata": {},
   "outputs": [
    {
     "data": {
      "text/plain": [
       "{'board': 'BabyMother',\n",
       " 'text': ['再', '擠', '也', '擠', '不', '出來', '了'],\n",
       " 'cnstr': ['O', 'BX', 'IX', 'IX', 'IX', 'IX', 'O'],\n",
       " 'slot': ['O', 'BV', 'BC', 'BV', 'BC', 'BV', 'O'],\n",
       " 'cnstr_form': ['v', '也', 'v', '不', 'X'],\n",
       " 'cnstr_example': ['擠', '也', '擠', '不', '出來']}"
      ]
     },
     "execution_count": 8,
     "metadata": {},
     "output_type": "execute_result"
    }
   ],
   "source": [
    "xx = data[1211]\n",
    "xx"
   ]
  },
  {
   "cell_type": "code",
   "execution_count": 9,
   "id": "6eae2503-404a-4c48-b5f1-432570bc35e5",
   "metadata": {},
   "outputs": [
    {
     "data": {
      "text/plain": [
       "['masked', 'text', 'mindex', 'mindex_bool']"
      ]
     },
     "execution_count": 9,
     "metadata": {},
     "output_type": "execute_result"
    }
   ],
   "source": [
    "batch = batched_text(data, train_idxs[:5], \"vslot\")\n",
    "def get_cnstr_eqs(cxinst):\n",
    "    cnstr_eqs = {\n",
    "        \"text\": \"\".join(chain.from_iterable(cxinst[\"text\"])),\n",
    "        \"form\": cxinst[\"cnstr_form\"],\n",
    "        \"example\": cxinst[\"cnstr_example\"],\n",
    "        \"eqs\": get_equality_constraints(cxinst)\n",
    "    }\n",
    "    return cnstr_eqs\n",
    "list(batch.keys())"
   ]
  },
  {
   "cell_type": "markdown",
   "id": "34750e05-eab1-4d53-a1c4-0b3efdbdf44b",
   "metadata": {},
   "source": [
    "## Calculate Unigram baseline"
   ]
  },
  {
   "cell_type": "code",
   "execution_count": 10,
   "id": "074d156f-9ef2-4692-8e13-0bec68a2911f",
   "metadata": {},
   "outputs": [],
   "source": [
    "import re\n",
    "v_instances = []\n",
    "for idx in train_idxs:\n",
    "    try:\n",
    "        eqs = get_cnstr_eqs(data[idx])    \n",
    "    except ValueError:\n",
    "        continue\n",
    "        \n",
    "    for v, inst in zip(eqs[\"form\"], eqs[\"example\"]):\n",
    "        if re.match(\"[a-z0-9]+\", v):            \n",
    "            v_instances.append(inst)"
   ]
  },
  {
   "cell_type": "code",
   "execution_count": 11,
   "id": "da918c22-0bb4-46e9-a008-e36ddc075d88",
   "metadata": {},
   "outputs": [
    {
     "data": {
      "text/plain": [
       "19778"
      ]
     },
     "execution_count": 11,
     "metadata": {},
     "output_type": "execute_result"
    }
   ],
   "source": [
    "len(v_instances)"
   ]
  },
  {
   "cell_type": "code",
   "execution_count": 12,
   "id": "528bf19d-ecc1-499d-999f-24c0980244c0",
   "metadata": {},
   "outputs": [],
   "source": [
    "from collections import Counter\n",
    "uni_freq = Counter(chain.from_iterable(v_instances))\n",
    "def query_uni_freq(char):\n",
    "    return uni_freq.get(char, 0)"
   ]
  },
  {
   "cell_type": "code",
   "execution_count": 13,
   "id": "a0b63b98-6f4e-4f81-94f9-c1738ac408f8",
   "metadata": {},
   "outputs": [
    {
     "data": {
      "text/plain": [
       "[3647, 2682, 4692, 1391, 5050, 5481, 5464, 6341, 3121, 3119]"
      ]
     },
     "execution_count": 13,
     "metadata": {},
     "output_type": "execute_result"
    }
   ],
   "source": [
    "uni_base_chars = [x[0] for x in uni_freq.most_common(10)]\n",
    "uni_base_ids = tokenizer.convert_tokens_to_ids(uni_base_chars)\n",
    "uni_base_ids"
   ]
  },
  {
   "cell_type": "markdown",
   "id": "1e00ece2-ed07-488c-8337-fb2400f24b2e",
   "metadata": {},
   "source": [
    "## Find a sampel case"
   ]
  },
  {
   "cell_type": "code",
   "execution_count": 14,
   "id": "1849b9bf-7322-4006-9266-71fe9c930abe",
   "metadata": {},
   "outputs": [],
   "source": [
    "## case: 100\n",
    "CASE_INDEX = test_idxs[100]"
   ]
  },
  {
   "cell_type": "code",
   "execution_count": 15,
   "id": "8aca01da-bc31-41dc-8b19-ee0033cbde43",
   "metadata": {},
   "outputs": [],
   "source": [
    "bb = batched_text(data, [CASE_INDEX], 'vslot')"
   ]
  },
  {
   "cell_type": "code",
   "execution_count": 16,
   "id": "09fe141a-65c2-4e36-9599-f29ddf3e3ba0",
   "metadata": {},
   "outputs": [
    {
     "data": {
      "text/plain": [
       "'裡面的紅蘿蔔和馬鈴薯也很入味泡麵這樣拌一拌味道很棒耶'"
      ]
     },
     "execution_count": 16,
     "metadata": {},
     "output_type": "execute_result"
    }
   ],
   "source": [
    "\"\".join(bb[\"text\"][0])"
   ]
  },
  {
   "cell_type": "code",
   "execution_count": 17,
   "id": "e5024cd7-5910-42f4-a405-152bfb39d762",
   "metadata": {},
   "outputs": [
    {
     "name": "stdout",
     "output_type": "stream",
     "text": [
      "char, idx:  拌 2863\n"
     ]
    }
   ],
   "source": [
    "tgt_char = bb[\"text\"][0][bb[\"mindex\"][0][0]]\n",
    "tgt_idx = tokenizer.convert_tokens_to_ids(tgt_char)\n",
    "print(\"char, idx: \", tgt_char, tgt_idx)"
   ]
  },
  {
   "cell_type": "code",
   "execution_count": 18,
   "id": "c8366709-3f8a-42fb-bab5-605c9fb23bf0",
   "metadata": {},
   "outputs": [],
   "source": [
    "def get_predicted_ids(samples):\n",
    "    ids = samples[\"ids\"]    \n",
    "    logits = samples[\"logits\"]\n",
    "    all_ids = set(ids[0, :].tolist())\n",
    "    for i in range(1,ids.shape[0]):\n",
    "        all_ids = all_ids.union(ids[i,:].tolist())\n",
    "    all_ids = list(all_ids)        \n",
    "    return all_ids"
   ]
  },
  {
   "cell_type": "code",
   "execution_count": 19,
   "id": "c007d9d7-0296-40b9-a2a0-0629512b242d",
   "metadata": {},
   "outputs": [
    {
     "data": {
      "text/plain": [
       "{'ids': array([[2863, 4215, 1391, 4143, 4156, 3888, 1933, 3796, 5892, 4171],\n",
       "        [2863, 1391, 4215, 4156, 3888, 4143, 3796, 1933, 4171,  976]]),\n",
       " 'probs': array([[-0.17468047, -3.256768  , -3.443982  , -4.0479975 , -4.124008  ,\n",
       "         -4.2577524 , -5.5418177 , -5.6021223 , -5.676072  , -5.925703  ],\n",
       "        [-0.4559257 , -2.240133  , -2.4941814 , -3.7266328 , -3.7990692 ,\n",
       "         -3.8766124 , -4.391988  , -4.4194965 , -4.9139423 , -5.0177546 ]],\n",
       "       dtype=float32),\n",
       " 'logits': array([[17.644827 , 14.562739 , 14.375525 , 13.77151  , 13.695499 ,\n",
       "         13.561755 , 12.27769  , 12.217385 , 12.1434355, 11.893805 ],\n",
       "        [16.227083 , 14.442876 , 14.1888275, 12.956376 , 12.88394  ,\n",
       "         12.8063965, 12.291021 , 12.263513 , 11.769067 , 11.665255 ]],\n",
       "       dtype=float32)}"
      ]
     },
     "execution_count": 19,
     "metadata": {},
     "output_type": "execute_result"
    }
   ],
   "source": [
    "# conart predictions\n",
    "conart_samples = sample_site(bb, model, tokenizer, n_sample=10)[0]\n",
    "conart_samples"
   ]
  },
  {
   "cell_type": "code",
   "execution_count": 20,
   "id": "dc2a4628-9bd0-4fa0-a128-31d938320d7c",
   "metadata": {},
   "outputs": [
    {
     "data": {
      "text/plain": [
       "['拌 煮 吃 炒 炸 涮 夾 泡 蒸 烤', '拌 吃 煮 炸 涮 炒 泡 夾 烤 做']"
      ]
     },
     "execution_count": 20,
     "metadata": {},
     "output_type": "execute_result"
    }
   ],
   "source": [
    "tokenizer.batch_decode(conart_samples[\"ids\"])"
   ]
  },
  {
   "cell_type": "code",
   "execution_count": 21,
   "id": "37692e49-78db-4906-afe4-62caf9545485",
   "metadata": {},
   "outputs": [
    {
     "data": {
      "text/plain": [
       "['拌', '吃', '煮', '炸', '炒', '涮', '夾', '泡', '烤', '蒸']"
      ]
     },
     "execution_count": 21,
     "metadata": {},
     "output_type": "execute_result"
    }
   ],
   "source": [
    "conart_samples_merged = sample_site(bb, model, tokenizer, merge_pair2=True, n_sample=10)[0]\n",
    "tokenizer.batch_decode(conart_samples_merged[\"ids\"])"
   ]
  },
  {
   "cell_type": "code",
   "execution_count": 22,
   "id": "d90bf202-e3cf-45b6-a637-0f4c1ea8d1d3",
   "metadata": {},
   "outputs": [
    {
     "name": "stdout",
     "output_type": "stream",
     "text": [
      "conart:  [5892, 4171, 1933, 1391, 4143, 2863, 3888, 976, 3796, 4215, 4156]\n",
      "ckip:    [7953, 4638, 679, 2863, 943, 4275, 1846, 4156, 4676, 4934, 4171, 4813, 976, 1366, 868, 6887, 3564, 1391, 4215, 889]\n"
     ]
    }
   ],
   "source": [
    "conart_samples = sample_site(bb, model, tokenizer, n_sample=10)[0]\n",
    "conart_ids = get_predicted_ids(conart_samples)\n",
    "print(\"conart: \", conart_ids)\n",
    "ckip_samples = sample_site(bb, ckip_model, tokenizer, n_sample=10)[0]\n",
    "ckip_ids = get_predicted_ids(ckip_samples)\n",
    "print(\"ckip:   \", ckip_ids)"
   ]
  },
  {
   "cell_type": "code",
   "execution_count": 23,
   "id": "acdb7c46-062b-469e-a134-d1c29e2c1e11",
   "metadata": {},
   "outputs": [
    {
     "name": "stdout",
     "output_type": "stream",
     "text": [
      "len(union_ids):  34\n",
      "target location in union_ids:  8\n"
     ]
    }
   ],
   "source": [
    "union_ids = np.array(list(set(chain(uni_base_ids, conart_ids, ckip_ids))))\n",
    "tgt_loc = np.nonzero(union_ids == tgt_idx)[0][0]\n",
    "print(\"len(union_ids): \", len(union_ids))\n",
    "print(\"target location in union_ids: \", tgt_loc)"
   ]
  },
  {
   "cell_type": "code",
   "execution_count": 24,
   "id": "ea9f81d6-fca3-4b9a-a4ca-2fba1f46ec91",
   "metadata": {},
   "outputs": [],
   "source": [
    "def to_outer_lprob(logits):\n",
    "    pmat = np.add.outer(logits[0, :], logits[1, :])\n",
    "    probs = np.exp(pmat)/np.exp(pmat).sum()\n",
    "    return np.log(probs+1e-5)\n",
    "\n",
    "conart_logits = sample_site(bb, model, tokenizer, query_idxs=np.tile(union_ids, (2, 1)))[0][\"logits\"]\n",
    "conart_lprobs = to_outer_lprob(conart_logits)\n",
    "ckip_logits = sample_site(bb, ckip_model, tokenizer, query_idxs=np.tile(union_ids, (2, 1)))[0][\"logits\"]\n",
    "ckip_lprobs = to_outer_lprob(ckip_logits)\n"
   ]
  },
  {
   "cell_type": "code",
   "execution_count": 25,
   "id": "64b8cc85-0698-4e5b-8640-36185dc1ac8f",
   "metadata": {},
   "outputs": [],
   "source": [
    "uni_freqs = np.array([query_uni_freq(x) for x \n",
    "             in tokenizer.convert_ids_to_tokens(union_ids)])\n",
    "uni_probs = uni_freqs/uni_freqs.sum()\n",
    "uni_lprobs = np.log(uni_probs+1e-5)\n",
    "uni_lprobs = np.add.outer(uni_lprobs, uni_lprobs)"
   ]
  },
  {
   "cell_type": "code",
   "execution_count": 26,
   "id": "cbdfc06e-992e-4471-a2e9-47874ac41bc6",
   "metadata": {},
   "outputs": [],
   "source": [
    "lprobs_stack = np.dstack([conart_lprobs, ckip_lprobs, uni_lprobs])\n",
    "ids_order = np.einsum('ijk->i', lprobs_stack).argsort()[::-1]\n",
    "ids_order = np.roll(ids_order, len(ids_order)//2)\n",
    "img_vmin = lprobs_stack.min()\n",
    "img_vmax = lprobs_stack.max()"
   ]
  },
  {
   "cell_type": "code",
   "execution_count": 27,
   "id": "b589ce94-7eca-4b9b-930e-3ff760dd1d65",
   "metadata": {},
   "outputs": [],
   "source": [
    "from matplotlib import pyplot as plt\n",
    "import matplotlib.patches as patches\n",
    "def plot_probs(lprobs, ids_order, tgt_loc, ax, title):            \n",
    "    tgt_loc = np.where(ids_order == tgt_loc)[0][0]\n",
    "    mat = lprobs[ids_order, :][:, ids_order]\n",
    "    ax.imshow(mat, cmap=\"viridis\")\n",
    "    ax.set_title(title, fontsize=18, y=-0.15)\n",
    "    ymin, ymax = ax.get_ylim()\n",
    "    rect_x = patches.Rectangle((tgt_loc-0.5, -0.2), 1, lprobs.shape[1]-0.6, linewidth=1, edgecolor='white', facecolor='none')\n",
    "    rect_y = patches.Rectangle((-0.2, tgt_loc-0.5), lprobs.shape[0]-0.6, 1, linewidth=1, edgecolor='white', facecolor='none')\n",
    "    ax.add_patch(rect_x)\n",
    "    ax.add_patch(rect_y)    "
   ]
  },
  {
   "cell_type": "code",
   "execution_count": 28,
   "id": "c76ce7ca-6c46-4b23-96a7-2ef0880034dc",
   "metadata": {},
   "outputs": [
    {
     "data": {
      "text/plain": [
       "Text(0.5, 0.95, 'Prediction Distributions of Different Models')"
      ]
     },
     "execution_count": 28,
     "metadata": {},
     "output_type": "execute_result"
    },
    {
     "data": {
      "image/png": "[encoded data removed]",
      "text/plain": [
       "<Figure size 1296x432 with 3 Axes>"
      ]
     },
     "metadata": {
      "needs_background": "light"
     },
     "output_type": "display_data"
    }
   ],
   "source": [
    "fig, axes = plt.subplots(1, 3, figsize=(18,6))\n",
    "plot_probs(conart_lprobs, ids_order, tgt_loc, ax=axes[0], title='CxLM')\n",
    "plot_probs(ckip_lprobs, ids_order, tgt_loc, ax=axes[1], title=\"Base-Bert\")\n",
    "plot_probs(uni_lprobs, ids_order, tgt_loc, ax=axes[2], title=\"Unigram\")\n",
    "fig.suptitle(\"Prediction Distributions of Different Models\", y=0.95, fontsize=24)"
   ]
  },
  {
   "cell_type": "markdown",
   "id": "0d32003f-cb27-4dd7-9436-db7a64cd0647",
   "metadata": {},
   "source": [
    "## Output Plot"
   ]
  },
  {
   "cell_type": "code",
   "execution_count": 29,
   "id": "fba799d8-1901-4b97-82bd-036d09e10c78",
   "metadata": {},
   "outputs": [],
   "source": [
    "fig.savefig(\"../data/figures/pred_distr.png\", dpi=200, bbox_inches='tight')"
   ]
  },
  {
   "cell_type": "code",
   "execution_count": null,
   "id": "e5a7c7e7-bdc4-4afa-b537-1ab8c3b80019",
   "metadata": {},
   "outputs": [],
   "source": []
  }
 ],
 "metadata": {
  "kernelspec": {
   "display_name": "Python 3 (ipykernel)",
   "language": "python",
   "name": "python3"
  },
  "language_info": {
   "codemirror_mode": {
    "name": "ipython",
    "version": 3
   },
   "file_extension": ".py",
   "mimetype": "text/x-python",
   "name": "python",
   "nbconvert_exporter": "python",
   "pygments_lexer": "ipython3",
   "version": "3.9.5"
  }
 },
 "nbformat": 4,
 "nbformat_minor": 5
}
