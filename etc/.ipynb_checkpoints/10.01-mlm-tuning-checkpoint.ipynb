{
 "cells": [
  {
   "cell_type": "code",
   "execution_count": 2,
   "id": "46b8acef-ef12-40d0-9d27-fde1bd8b7f00",
   "metadata": {},
   "outputs": [],
   "source": [
    "from transformers import BertTokenizerFast, BertForMaskedLM, BertModel\n",
    "import pandas as pd"
   ]
  },
  {
   "cell_type": "code",
   "execution_count": 3,
   "id": "46be44f6-5e00-4f5c-ac66-aec6f4441879",
   "metadata": {},
   "outputs": [
    {
     "data": {
      "application/vnd.jupyter.widget-view+json": {
       "model_id": "8990529b7881442c83f18cc8c40bb9d0",
       "version_major": 2,
       "version_minor": 0
      },
      "text/plain": [
       "Downloading:   0%|          | 0.00/701 [00:00<?, ?B/s]"
      ]
     },
     "metadata": {},
     "output_type": "display_data"
    },
    {
     "data": {
      "application/vnd.jupyter.widget-view+json": {
       "model_id": "584f497079f94d6187625336ea01f022",
       "version_major": 2,
       "version_minor": 0
      },
      "text/plain": [
       "Downloading:   0%|          | 0.00/390M [00:00<?, ?B/s]"
      ]
     },
     "metadata": {},
     "output_type": "display_data"
    }
   ],
   "source": [
    "tokenizer = BertTokenizerFast.from_pretrained('bert-base-chinese')\n",
    "# model = BertForMaskedLM.from_pretrained('bert-base-chinese')\n",
    "model = BertForMaskedLM.from_pretrained('ckiplab/bert-base-chinese')"
   ]
  },
  {
   "cell_type": "code",
   "execution_count": 27,
   "id": "334603c4-5629-495e-86c3-9be593962eb4",
   "metadata": {},
   "outputs": [],
   "source": [
    "cxdata = pd.read_csv(\"../data/raw_cx_data.csv\")"
   ]
  },
  {
   "cell_type": "code",
   "execution_count": 72,
   "id": "d85eac9c-287c-49e7-9eec-c7121e5b00b7",
   "metadata": {},
   "outputs": [],
   "source": [
    "import ast\n",
    "def eval_obj(x):\n",
    "    ret = {}\n",
    "    for k, v in x.items():\n",
    "        if k == \"board\":\n",
    "            ret[k] = v\n",
    "        else:\n",
    "            ret[k] = ast.literal_eval(v)\n",
    "    return ret\n",
    "data = cxdata.to_dict(orient=\"records\")\n",
    "data = [eval_obj(x) for x in data]"
   ]
  },
  {
   "cell_type": "code",
   "execution_count": 75,
   "id": "55f0e50e-6fbf-417c-b06e-823755c50049",
   "metadata": {},
   "outputs": [],
   "source": [
    "import json\n",
    "with open(\"../data/raw_cx_data.json\", \"w\", encoding=\"UTF-8\") as fout:\n",
    "    json.dump(data, fout, indent=2, ensure_ascii=False)"
   ]
  },
  {
   "cell_type": "code",
   "execution_count": 108,
   "id": "e2e7c7b7-1972-44ba-85a6-acabaa0dcf21",
   "metadata": {},
   "outputs": [
    {
     "data": {
      "text/plain": [
       "[669, 1211, 1214, 1221, 1222, 1223, 1233, 1325, 1378, 1384]"
      ]
     },
     "execution_count": 108,
     "metadata": {},
     "output_type": "execute_result"
    }
   ],
   "source": [
    "[i for i, x in enumerate(data) if len(\"\".join(x[\"cnstr_example\"])) != len(x[\"cnstr_example\"])][10:20]"
   ]
  },
  {
   "cell_type": "code",
   "execution_count": 110,
   "id": "ab1179ed-8332-46d9-99af-e5ca98da2f6c",
   "metadata": {},
   "outputs": [
    {
     "data": {
      "text/plain": [
       "{'board': 'BabyMother',\n",
       " 'text': ['再', '擠', '也', '擠', '不', '出來', '了'],\n",
       " 'cnstr': ['O', 'BX', 'IX', 'IX', 'IX', 'IX', 'O'],\n",
       " 'slot': ['O', 'BV', 'BC', 'BV', 'BC', 'BV', 'O'],\n",
       " 'cnstr_form': ['v', '也', 'v', '不', 'X'],\n",
       " 'cnstr_example': ['擠', '也', '擠', '不', '出來']}"
      ]
     },
     "execution_count": 110,
     "metadata": {},
     "output_type": "execute_result"
    }
   ],
   "source": [
    "xx = data[1211]\n",
    "xx"
   ]
  },
  {
   "cell_type": "code",
   "execution_count": 131,
   "id": "f85f0c87-a0fe-4965-bd1c-e8109b88dc74",
   "metadata": {},
   "outputs": [],
   "source": [
    "cx_inst = data[1211]\n",
    "def get_masked(cx_inst):\n",
    "    cx_mask = [x!=\"O\" for x in cx_inst[\"cnstr\"]]\n",
    "    cx_cslot = [x.endswith(\"C\") for x in cx_inst[\"slot\"]]\n",
    "    cx_vslot = [x.endswith(\"V\") for x in cx_inst[\"slot\"]]\n",
    "    return {\"cx\": cx_mask, \"cslot\": cx_cslot, \"vslot\": cx_vslot}\n",
    "\n",
    "def get_masked_indices(masked):\n",
    "    return [i for i, x in enumerate(masked) if x]\n",
    "\n",
    "def get_masked_text(cx_inst, mask_field):\n",
    "    text = cx_inst[\"text\"]\n",
    "    mask_dict = get_masked(cx_inst)\n",
    "    MASK_FIELDS = (\"cx\", \"cslot\", \"vslot\")\n",
    "    if mask_field not in MASK_FIELDS:\n",
    "        raise ValueError(\"Unsupported mask fields\")\n",
    "    target_mask = mask_dict[mask_field]\n",
    "    masked_text = [([\"[MASK]\"]*len(t) if m else [t]) for t, m in zip(text, target_mask)]\n",
    "    masked_text = list(chain.from_iterable(masked_text))\n",
    "    masked_indices = get_masked_indices(target_mask)\n",
    "    \n",
    "    return {\"masked\": masked_text, \n",
    "            \"text\": text, \"mindex\": masked_indices}"
   ]
  },
  {
   "cell_type": "code",
   "execution_count": 133,
   "id": "5456d0e3-2216-4471-bb58-7db39b6d171c",
   "metadata": {},
   "outputs": [
    {
     "data": {
      "text/plain": [
       "{'board': 'BabyMother',\n",
       " 'text': ['再', '擠', '也', '擠', '不', '出來', '了'],\n",
       " 'cnstr': ['O', 'BX', 'IX', 'IX', 'IX', 'IX', 'O'],\n",
       " 'slot': ['O', 'BV', 'BC', 'BV', 'BC', 'BV', 'O'],\n",
       " 'cnstr_form': ['v', '也', 'v', '不', 'X'],\n",
       " 'cnstr_example': ['擠', '也', '擠', '不', '出來']}"
      ]
     },
     "execution_count": 133,
     "metadata": {},
     "output_type": "execute_result"
    }
   ],
   "source": [
    "cx_inst"
   ]
  },
  {
   "cell_type": "code",
   "execution_count": 132,
   "id": "d33f5b6d-f3a1-4ea5-88e1-76351875d9cb",
   "metadata": {},
   "outputs": [
    {
     "data": {
      "text/plain": [
       "{'masked': ['再',\n",
       "  '[MASK]',\n",
       "  '[MASK]',\n",
       "  '[MASK]',\n",
       "  '[MASK]',\n",
       "  '[MASK]',\n",
       "  '[MASK]',\n",
       "  '了'],\n",
       " 'text': ['再', '擠', '也', '擠', '不', '出來', '了'],\n",
       " 'mindex': [1, 2, 3, 4, 5]}"
      ]
     },
     "execution_count": 132,
     "metadata": {},
     "output_type": "execute_result"
    }
   ],
   "source": [
    "get_masked_text(cx_inst, \"cx\")"
   ]
  },
  {
   "cell_type": "code",
   "execution_count": 121,
   "id": "29a2957f-72c7-48fb-8b20-7b9ced9e5579",
   "metadata": {},
   "outputs": [],
   "source": [
    "from itertools import chain\n",
    "target_mask = cx_vslot # cx_mask, cx_cslot, cx_vslot\n",
    "masked_text = [([\"[MASK]\"]*len(t) if m else [t]) for t, m in zip(cx_inst[\"text\"], target_mask)]\n",
    "masked_text = list(chain.from_iterable(masked_text))\n",
    "ori_text = cx_inst[\"text\"]"
   ]
  },
  {
   "cell_type": "code",
   "execution_count": 122,
   "id": "309c6ac4-53d5-46be-86ee-b41cb6927608",
   "metadata": {},
   "outputs": [
    {
     "name": "stdout",
     "output_type": "stream",
     "text": [
      "['再', '[MASK]', '也', '[MASK]', '不', '[MASK]', '[MASK]', '了']\n",
      "['再', '擠', '也', '擠', '不', '出來', '了']\n"
     ]
    }
   ],
   "source": [
    "print(masked_text)\n",
    "print(ori_text)"
   ]
  },
  {
   "cell_type": "code",
   "execution_count": 124,
   "id": "7a89ca97-83f6-46fe-ae97-80b40afc05ee",
   "metadata": {},
   "outputs": [
    {
     "data": {
      "text/plain": [
       "tensor(5.1272, grad_fn=<NllLossBackward0>)"
      ]
     },
     "execution_count": 124,
     "metadata": {},
     "output_type": "execute_result"
    }
   ],
   "source": [
    "X = tokenizer(masked_text, return_tensors=\"pt\", is_split_into_words=True)\n",
    "Xori = tokenizer(ori_text, return_tensors=\"pt\", is_split_into_words=True)\n",
    "out = model(**X, labels=Xori[\"input_ids\"])\n",
    "tokenizer.decode(out.logits.argmax(dim=2).squeeze())\n",
    "out.loss"
   ]
  },
  {
   "cell_type": "code",
   "execution_count": null,
   "id": "827fddc7-5d39-4fa5-a652-d98f82e0eb50",
   "metadata": {},
   "outputs": [],
   "source": []
  }
 ],
 "metadata": {
  "kernelspec": {
   "display_name": "Python 3 (ipykernel)",
   "language": "python",
   "name": "python3"
  },
  "language_info": {
   "codemirror_mode": {
    "name": "ipython",
    "version": 3
   },
   "file_extension": ".py",
   "mimetype": "text/x-python",
   "name": "python",
   "nbconvert_exporter": "python",
   "pygments_lexer": "ipython3",
   "version": "3.9.5"
  }
 },
 "nbformat": 4,
 "nbformat_minor": 5
}
