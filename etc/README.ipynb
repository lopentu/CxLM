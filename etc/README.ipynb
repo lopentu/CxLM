{
 "cells": [
  {
   "cell_type": "code",
   "execution_count": 1,
   "id": "074d8dac-f9bf-4fd5-850f-db3045154ec5",
   "metadata": {},
   "outputs": [],
   "source": [
    "import nbformat"
   ]
  },
  {
   "cell_type": "code",
   "execution_count": 2,
   "id": "9223da9b-6d7e-4d07-b3b6-0db18cbeb07e",
   "metadata": {},
   "outputs": [],
   "source": []
  },
  {
   "cell_type": "code",
   "execution_count": 3,
   "id": "6683c7ce-3440-4867-b10d-fedc79f5da66",
   "metadata": {},
   "outputs": [],
   "source": [
    "from IPython.display import Markdown"
   ]
  },
  {
   "cell_type": "code",
   "execution_count": 19,
   "id": "35d7aa03-fc92-4cac-a603-3c2d5149b5fb",
   "metadata": {},
   "outputs": [
    {
     "data": {
      "text/markdown": [
       "# 10.01-data-prep.ipynb\n",
       "## Data preparation\n",
       "* Input: \n",
       "  * `../data/raw_cx_data.csv|json`\n",
       "* Output:   \n",
       "  * `../data/output/cx_counter.csv`\n",
       "  * `../data/output/board_counter.csv`\n",
       "  * `../data/cv_splits_10.json`\n",
       "\n",
       "# 10.10-mlm-tuning.ipynb\n",
       "## MLM slots evals\n",
       "* Inputs:\n",
       "  * raw data: `../data/raw_cx_data.json` (10.01)\n",
       "  * CV splits: `../data/cv_splits_10.json` (10.01)\n",
       "\n"
      ],
      "text/plain": [
       "<IPython.core.display.Markdown object>"
      ]
     },
     "execution_count": 19,
     "metadata": {},
     "output_type": "execute_result"
    }
   ],
   "source": [
    "from glob import glob\n",
    "from pathlib import Path\n",
    "from io import StringIO\n",
    "mio = StringIO()\n",
    "for nb_path in sorted(glob(\"*.ipynb\")):\n",
    "    nb_path = Path(nb_path)\n",
    "    nb = nbformat.read(nb_path, 4)\n",
    "    md = [x for x in nb.cells if x[\"cell_type\"]==\"markdown\"]\n",
    "    if md:\n",
    "        mio.write(\"# \" + nb_path.name + \"\\n\")\n",
    "        mio.write(md[0].source)\n",
    "        mio.write(\"\\n\\n\")\n",
    "#print(mio.getvalue())\n",
    "Markdown(mio.getvalue())"
   ]
  },
  {
   "cell_type": "code",
   "execution_count": null,
   "id": "0ab804fe-525f-4f5d-8e21-4d2a09cd87f8",
   "metadata": {},
   "outputs": [],
   "source": []
  }
 ],
 "metadata": {
  "kernelspec": {
   "display_name": "Python 3 (ipykernel)",
   "language": "python",
   "name": "python3"
  },
  "language_info": {
   "codemirror_mode": {
    "name": "ipython",
    "version": 3
   },
   "file_extension": ".py",
   "mimetype": "text/x-python",
   "name": "python",
   "nbconvert_exporter": "python",
   "pygments_lexer": "ipython3",
   "version": "3.9.5"
  }
 },
 "nbformat": 4,
 "nbformat_minor": 5
}
